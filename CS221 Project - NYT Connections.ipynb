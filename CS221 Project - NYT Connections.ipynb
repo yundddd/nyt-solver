{
  "cells": [
    {
      "cell_type": "markdown",
      "metadata": {
        "id": "_6Rqz91i-d46"
      },
      "source": [
        "# Documentations\n",
        "https://radimrehurek.com/gensim/auto_examples/howtos/run_downloader_api.html#sphx-glr-auto-examples-howtos-run-downloader-api-py\n",
        "\n",
        "https://radimrehurek.com/gensim/models/word2vec.html#pretrained-models\n",
        "\n",
        "https://github.com/piskvorky/gensim-data?tab=readme-ov-file\n",
        "\n",
        "https://medium.com/@manansuri/a-dummys-guide-to-word2vec-456444f3c673\n",
        "\n",
        "https://radimrehurek.com/gensim_3.8.3/models/keyedvectors.html\n",
        "\n",
        "https://scikit-learn.org/stable/modules/generated/sklearn.cluster.KMeans.html"
      ]
    },
    {
      "cell_type": "markdown",
      "source": [
        "# Import Libraries"
      ],
      "metadata": {
        "id": "39pSS836ponS"
      }
    },
    {
      "cell_type": "code",
      "execution_count": null,
      "metadata": {
        "id": "sgzVecxGPev4",
        "colab": {
          "base_uri": "https://localhost:8080/"
        },
        "outputId": "a908b426-daed-4271-87ce-8d4f44ccbe27"
      },
      "outputs": [
        {
          "output_type": "stream",
          "name": "stdout",
          "text": [
            "Python 3.10.12\n",
            "numpy is already installed.\n",
            "pandas is already installed.\n",
            "gensim is already installed.\n",
            "sklearn is already installed.\n",
            "psutil is already installed.\n",
            "spacy is already installed.\n",
            "google.cloud is already installed.\n"
          ]
        }
      ],
      "source": [
        "# Useful Libraries\n",
        "import os\n",
        "import json\n",
        "import importlib\n",
        "\n",
        "def check_package(package_name):\n",
        "    try:\n",
        "        importlib.import_module(package_name)\n",
        "        print(f\"{package_name} is already installed.\")\n",
        "    except ImportError:\n",
        "        print(f\"{package_name} is not installed.\")\n",
        "        if package_name == \"sklearn\":\n",
        "          !pip install --upgrade scikit-learn\n",
        "        elif package_name == \"google-cloud-storage\":\n",
        "          !pip install --upgrade google-cloud-storage\n",
        "        else:\n",
        "          !pip install --upgrade {package_name}\n",
        "\n",
        "!python --version\n",
        "packages = [\"numpy\",\"pandas\",\"gensim\",\"sklearn\",\"psutil\",\"spacy\",\"google.cloud\"]\n",
        "for package in packages:\n",
        "  check_package(package)\n",
        "\n",
        "# Third-Party Libraries\n",
        "import numpy as np\n",
        "import pandas as pd\n",
        "import gensim\n",
        "import gensim.downloader as api\n",
        "from gensim.models import Word2Vec\n",
        "import spacy\n",
        "import google.cloud.storage as gcs\n",
        "from gensim.models import KeyedVectors\n",
        "from sklearn.cluster import KMeans\n",
        "from sklearn.cluster import DBSCAN\n",
        "import matplotlib.pyplot as plt\n",
        "from sklearn.metrics import accuracy_score, precision_score, recall_score, f1_score\n",
        "from collections import Counter\n",
        "import seaborn as sns\n",
        "# !pip install --upgrade gensim\n",
        "# !pip install --upgrade scikit-learn\n",
        "# !pip install --upgrade psutil\n",
        "# !pip install --upgrade spacy"
      ]
    },
    {
      "cell_type": "markdown",
      "source": [
        "## Fetch game file and word2vec models"
      ],
      "metadata": {
        "id": "iOJefvG-cfXs"
      }
    },
    {
      "cell_type": "code",
      "execution_count": null,
      "metadata": {
        "id": "cyh5kbBh25e5",
        "colab": {
          "base_uri": "https://localhost:8080/"
        },
        "outputId": "e1452915-bdc0-413f-ce55-1458f6ceffe1"
      },
      "outputs": [
        {
          "output_type": "stream",
          "name": "stdout",
          "text": [
            "The model has been downloaded to\n",
            "KeyedVectors<vector_size=50, 400000 keys> and loaded!\n"
          ]
        }
      ],
      "source": [
        "# Download a pre-trained model from https://github.com/piskvorky/gensim-data.\n",
        "# Model data: Google News (about 100 billion words)\n",
        "# Model name: \"word2vec-google-news-300\"\n",
        "# Metadata: 1662 MB, 3000000 vectors\n",
        "# This takes up to 1-2 min to download and load.\n",
        "#word2VecModel = api.load(\"glove-twitter-25\")\n",
        "\n",
        "modelNames = [\"word2vec-google-news-300\", \"glove-wiki-gigaword-50\"]\n",
        "modelName = modelNames[1]     # Jack: I temporarily switches this to a much smaller model because the larger model keeps failing halfway through download for me. Change back whenever you desire\n",
        "\n",
        "\n",
        "word2VecModel = api.load(modelName)\n",
        "print(f\"The model has been downloaded to\\n{word2VecModel} and loaded!\")"
      ]
    },
    {
      "cell_type": "code",
      "execution_count": null,
      "metadata": {
        "id": "kXMctMEoSEGN",
        "colab": {
          "base_uri": "https://localhost:8080/",
          "height": 206
        },
        "outputId": "3d29622b-a733-49fc-bf04-b6595fb27299"
      },
      "outputs": [
        {
          "output_type": "execute_result",
          "data": {
            "text/plain": [
              "   id                                     wordCategories\n",
              "0   1  {'WET WEATHER': ['HAIL', 'RAIN', 'SLEET', 'SNO...\n",
              "1   2  {'FOOTWEAR': ['BOOT', 'LOAFER', 'PUMP', 'SNEAK...\n",
              "2   3  {'FACIAL FEATURES': ['CHEEK', 'EYE', 'MOUTH', ...\n",
              "3   4  {'SNEAKER BRANDS': ['ADIDAS', 'NIKE', 'PUMA', ...\n",
              "4   5  {'STREAMING SERVICES': ['HULU', 'NETFLIX', 'PE..."
            ],
            "text/html": [
              "\n",
              "  <div id=\"df-eae11ad4-3f75-49f9-b3fc-68a7c71b9f11\" class=\"colab-df-container\">\n",
              "    <div>\n",
              "<style scoped>\n",
              "    .dataframe tbody tr th:only-of-type {\n",
              "        vertical-align: middle;\n",
              "    }\n",
              "\n",
              "    .dataframe tbody tr th {\n",
              "        vertical-align: top;\n",
              "    }\n",
              "\n",
              "    .dataframe thead th {\n",
              "        text-align: right;\n",
              "    }\n",
              "</style>\n",
              "<table border=\"1\" class=\"dataframe\">\n",
              "  <thead>\n",
              "    <tr style=\"text-align: right;\">\n",
              "      <th></th>\n",
              "      <th>id</th>\n",
              "      <th>wordCategories</th>\n",
              "    </tr>\n",
              "  </thead>\n",
              "  <tbody>\n",
              "    <tr>\n",
              "      <th>0</th>\n",
              "      <td>1</td>\n",
              "      <td>{'WET WEATHER': ['HAIL', 'RAIN', 'SLEET', 'SNO...</td>\n",
              "    </tr>\n",
              "    <tr>\n",
              "      <th>1</th>\n",
              "      <td>2</td>\n",
              "      <td>{'FOOTWEAR': ['BOOT', 'LOAFER', 'PUMP', 'SNEAK...</td>\n",
              "    </tr>\n",
              "    <tr>\n",
              "      <th>2</th>\n",
              "      <td>3</td>\n",
              "      <td>{'FACIAL FEATURES': ['CHEEK', 'EYE', 'MOUTH', ...</td>\n",
              "    </tr>\n",
              "    <tr>\n",
              "      <th>3</th>\n",
              "      <td>4</td>\n",
              "      <td>{'SNEAKER BRANDS': ['ADIDAS', 'NIKE', 'PUMA', ...</td>\n",
              "    </tr>\n",
              "    <tr>\n",
              "      <th>4</th>\n",
              "      <td>5</td>\n",
              "      <td>{'STREAMING SERVICES': ['HULU', 'NETFLIX', 'PE...</td>\n",
              "    </tr>\n",
              "  </tbody>\n",
              "</table>\n",
              "</div>\n",
              "    <div class=\"colab-df-buttons\">\n",
              "\n",
              "  <div class=\"colab-df-container\">\n",
              "    <button class=\"colab-df-convert\" onclick=\"convertToInteractive('df-eae11ad4-3f75-49f9-b3fc-68a7c71b9f11')\"\n",
              "            title=\"Convert this dataframe to an interactive table.\"\n",
              "            style=\"display:none;\">\n",
              "\n",
              "  <svg xmlns=\"http://www.w3.org/2000/svg\" height=\"24px\" viewBox=\"0 -960 960 960\">\n",
              "    <path d=\"M120-120v-720h720v720H120Zm60-500h600v-160H180v160Zm220 220h160v-160H400v160Zm0 220h160v-160H400v160ZM180-400h160v-160H180v160Zm440 0h160v-160H620v160ZM180-180h160v-160H180v160Zm440 0h160v-160H620v160Z\"/>\n",
              "  </svg>\n",
              "    </button>\n",
              "\n",
              "  <style>\n",
              "    .colab-df-container {\n",
              "      display:flex;\n",
              "      gap: 12px;\n",
              "    }\n",
              "\n",
              "    .colab-df-convert {\n",
              "      background-color: #E8F0FE;\n",
              "      border: none;\n",
              "      border-radius: 50%;\n",
              "      cursor: pointer;\n",
              "      display: none;\n",
              "      fill: #1967D2;\n",
              "      height: 32px;\n",
              "      padding: 0 0 0 0;\n",
              "      width: 32px;\n",
              "    }\n",
              "\n",
              "    .colab-df-convert:hover {\n",
              "      background-color: #E2EBFA;\n",
              "      box-shadow: 0px 1px 2px rgba(60, 64, 67, 0.3), 0px 1px 3px 1px rgba(60, 64, 67, 0.15);\n",
              "      fill: #174EA6;\n",
              "    }\n",
              "\n",
              "    .colab-df-buttons div {\n",
              "      margin-bottom: 4px;\n",
              "    }\n",
              "\n",
              "    [theme=dark] .colab-df-convert {\n",
              "      background-color: #3B4455;\n",
              "      fill: #D2E3FC;\n",
              "    }\n",
              "\n",
              "    [theme=dark] .colab-df-convert:hover {\n",
              "      background-color: #434B5C;\n",
              "      box-shadow: 0px 1px 3px 1px rgba(0, 0, 0, 0.15);\n",
              "      filter: drop-shadow(0px 1px 2px rgba(0, 0, 0, 0.3));\n",
              "      fill: #FFFFFF;\n",
              "    }\n",
              "  </style>\n",
              "\n",
              "    <script>\n",
              "      const buttonEl =\n",
              "        document.querySelector('#df-eae11ad4-3f75-49f9-b3fc-68a7c71b9f11 button.colab-df-convert');\n",
              "      buttonEl.style.display =\n",
              "        google.colab.kernel.accessAllowed ? 'block' : 'none';\n",
              "\n",
              "      async function convertToInteractive(key) {\n",
              "        const element = document.querySelector('#df-eae11ad4-3f75-49f9-b3fc-68a7c71b9f11');\n",
              "        const dataTable =\n",
              "          await google.colab.kernel.invokeFunction('convertToInteractive',\n",
              "                                                    [key], {});\n",
              "        if (!dataTable) return;\n",
              "\n",
              "        const docLinkHtml = 'Like what you see? Visit the ' +\n",
              "          '<a target=\"_blank\" href=https://colab.research.google.com/notebooks/data_table.ipynb>data table notebook</a>'\n",
              "          + ' to learn more about interactive tables.';\n",
              "        element.innerHTML = '';\n",
              "        dataTable['output_type'] = 'display_data';\n",
              "        await google.colab.output.renderOutput(dataTable, element);\n",
              "        const docLink = document.createElement('div');\n",
              "        docLink.innerHTML = docLinkHtml;\n",
              "        element.appendChild(docLink);\n",
              "      }\n",
              "    </script>\n",
              "  </div>\n",
              "\n",
              "\n",
              "<div id=\"df-3ecf38ce-d751-4651-ba22-c593dbaaaf47\">\n",
              "  <button class=\"colab-df-quickchart\" onclick=\"quickchart('df-3ecf38ce-d751-4651-ba22-c593dbaaaf47')\"\n",
              "            title=\"Suggest charts\"\n",
              "            style=\"display:none;\">\n",
              "\n",
              "<svg xmlns=\"http://www.w3.org/2000/svg\" height=\"24px\"viewBox=\"0 0 24 24\"\n",
              "     width=\"24px\">\n",
              "    <g>\n",
              "        <path d=\"M19 3H5c-1.1 0-2 .9-2 2v14c0 1.1.9 2 2 2h14c1.1 0 2-.9 2-2V5c0-1.1-.9-2-2-2zM9 17H7v-7h2v7zm4 0h-2V7h2v10zm4 0h-2v-4h2v4z\"/>\n",
              "    </g>\n",
              "</svg>\n",
              "  </button>\n",
              "\n",
              "<style>\n",
              "  .colab-df-quickchart {\n",
              "      --bg-color: #E8F0FE;\n",
              "      --fill-color: #1967D2;\n",
              "      --hover-bg-color: #E2EBFA;\n",
              "      --hover-fill-color: #174EA6;\n",
              "      --disabled-fill-color: #AAA;\n",
              "      --disabled-bg-color: #DDD;\n",
              "  }\n",
              "\n",
              "  [theme=dark] .colab-df-quickchart {\n",
              "      --bg-color: #3B4455;\n",
              "      --fill-color: #D2E3FC;\n",
              "      --hover-bg-color: #434B5C;\n",
              "      --hover-fill-color: #FFFFFF;\n",
              "      --disabled-bg-color: #3B4455;\n",
              "      --disabled-fill-color: #666;\n",
              "  }\n",
              "\n",
              "  .colab-df-quickchart {\n",
              "    background-color: var(--bg-color);\n",
              "    border: none;\n",
              "    border-radius: 50%;\n",
              "    cursor: pointer;\n",
              "    display: none;\n",
              "    fill: var(--fill-color);\n",
              "    height: 32px;\n",
              "    padding: 0;\n",
              "    width: 32px;\n",
              "  }\n",
              "\n",
              "  .colab-df-quickchart:hover {\n",
              "    background-color: var(--hover-bg-color);\n",
              "    box-shadow: 0 1px 2px rgba(60, 64, 67, 0.3), 0 1px 3px 1px rgba(60, 64, 67, 0.15);\n",
              "    fill: var(--button-hover-fill-color);\n",
              "  }\n",
              "\n",
              "  .colab-df-quickchart-complete:disabled,\n",
              "  .colab-df-quickchart-complete:disabled:hover {\n",
              "    background-color: var(--disabled-bg-color);\n",
              "    fill: var(--disabled-fill-color);\n",
              "    box-shadow: none;\n",
              "  }\n",
              "\n",
              "  .colab-df-spinner {\n",
              "    border: 2px solid var(--fill-color);\n",
              "    border-color: transparent;\n",
              "    border-bottom-color: var(--fill-color);\n",
              "    animation:\n",
              "      spin 1s steps(1) infinite;\n",
              "  }\n",
              "\n",
              "  @keyframes spin {\n",
              "    0% {\n",
              "      border-color: transparent;\n",
              "      border-bottom-color: var(--fill-color);\n",
              "      border-left-color: var(--fill-color);\n",
              "    }\n",
              "    20% {\n",
              "      border-color: transparent;\n",
              "      border-left-color: var(--fill-color);\n",
              "      border-top-color: var(--fill-color);\n",
              "    }\n",
              "    30% {\n",
              "      border-color: transparent;\n",
              "      border-left-color: var(--fill-color);\n",
              "      border-top-color: var(--fill-color);\n",
              "      border-right-color: var(--fill-color);\n",
              "    }\n",
              "    40% {\n",
              "      border-color: transparent;\n",
              "      border-right-color: var(--fill-color);\n",
              "      border-top-color: var(--fill-color);\n",
              "    }\n",
              "    60% {\n",
              "      border-color: transparent;\n",
              "      border-right-color: var(--fill-color);\n",
              "    }\n",
              "    80% {\n",
              "      border-color: transparent;\n",
              "      border-right-color: var(--fill-color);\n",
              "      border-bottom-color: var(--fill-color);\n",
              "    }\n",
              "    90% {\n",
              "      border-color: transparent;\n",
              "      border-bottom-color: var(--fill-color);\n",
              "    }\n",
              "  }\n",
              "</style>\n",
              "\n",
              "  <script>\n",
              "    async function quickchart(key) {\n",
              "      const quickchartButtonEl =\n",
              "        document.querySelector('#' + key + ' button');\n",
              "      quickchartButtonEl.disabled = true;  // To prevent multiple clicks.\n",
              "      quickchartButtonEl.classList.add('colab-df-spinner');\n",
              "      try {\n",
              "        const charts = await google.colab.kernel.invokeFunction(\n",
              "            'suggestCharts', [key], {});\n",
              "      } catch (error) {\n",
              "        console.error('Error during call to suggestCharts:', error);\n",
              "      }\n",
              "      quickchartButtonEl.classList.remove('colab-df-spinner');\n",
              "      quickchartButtonEl.classList.add('colab-df-quickchart-complete');\n",
              "    }\n",
              "    (() => {\n",
              "      let quickchartButtonEl =\n",
              "        document.querySelector('#df-3ecf38ce-d751-4651-ba22-c593dbaaaf47 button');\n",
              "      quickchartButtonEl.style.display =\n",
              "        google.colab.kernel.accessAllowed ? 'block' : 'none';\n",
              "    })();\n",
              "  </script>\n",
              "</div>\n",
              "\n",
              "    </div>\n",
              "  </div>\n"
            ],
            "application/vnd.google.colaboratory.intrinsic+json": {
              "type": "dataframe",
              "variable_name": "raw_data",
              "summary": "{\n  \"name\": \"raw_data\",\n  \"rows\": 342,\n  \"fields\": [\n    {\n      \"column\": \"id\",\n      \"properties\": {\n        \"dtype\": \"number\",\n        \"std\": 102,\n        \"min\": 1,\n        \"max\": 362,\n        \"num_unique_values\": 342,\n        \"samples\": [\n          242,\n          117,\n          114\n        ],\n        \"semantic_type\": \"\",\n        \"description\": \"\"\n      }\n    },\n    {\n      \"column\": \"wordCategories\",\n      \"properties\": {\n        \"dtype\": \"object\",\n        \"semantic_type\": \"\",\n        \"description\": \"\"\n      }\n    }\n  ]\n}"
            }
          },
          "metadata": {},
          "execution_count": 16
        }
      ],
      "source": [
        "# NYT puzzles up to today in one JSON\n",
        "# puzzle ID number (int) and the categories (Dict[String, List[String]]) as a dictionary\n",
        "# it's already cleaned up.\n",
        "\n",
        "# Jack - we might want to do a little preprocessing on the data so that words (not categories) are lowercase AND categories are sets rather than lists (makes equality simpler to check)\n",
        "# Would be nice to have words be lowercase and categories be uppercase, so we can easily distinguish them\n",
        "filePath = \"simplePuzzles.json\"\n",
        "\n",
        "# If the json file is already fetched from our GCS, do not re-fetch.\n",
        "if not os.path.exists(filePath):\n",
        "  # You can upload the file to https://console.cloud.google.com/storage/browser/cs221team\n",
        "  # Accessible @ https://storage.googleapis.com/cs221team/simplePuzzles.json\n",
        "  !gsutil cp gs://cs221team/simplePuzzles.json simplePuzzles.json\n",
        "  # !cat simplePuzzles.json\n",
        "\n",
        "# Load the json file as an JSON object.\n",
        "raw_data = pd.read_json(filePath,lines=False,orient='columns')\n",
        "raw_data.head(5)"
      ]
    },
    {
      "cell_type": "code",
      "source": [],
      "metadata": {
        "id": "HyqXUk2Mp46T"
      },
      "execution_count": null,
      "outputs": []
    },
    {
      "cell_type": "markdown",
      "source": [
        "# Type Definitions"
      ],
      "metadata": {
        "id": "ry2h2EPDqQ6l"
      }
    },
    {
      "cell_type": "code",
      "source": [
        "from typing import Set, Dict, Any, List, Tuple, Callable\n",
        "from enum import Enum\n",
        "\n",
        "ID = int\n",
        "Clue = str                      # A Clue is the word label for the category. Represented in uppercase and only for internal purposes.\n",
        "Color = Enum('Color', ['YELLOW', 'GREEN', 'BLUE', 'PURPLE'])  # A Color indicates the difficulty level of a category. Yellow is easiest, while purple is hardest.\n",
        "Label = Tuple[Clue, Color]      # A Label combines the Clue and Color for a category\n",
        "\n",
        "Word = str                      # A Word is one of the 16 words in a puzzle. Represented in lowercase.\n",
        "Category = Set[Word]            # A Category is a set of exactly 4 words\n",
        "\n",
        "UnsolvedPuzzle = Set[Word]      # An UnsolvedPuzzle is a set of 16, 12, 8, or 4 words, containing all of the words remaining in the puzzle without categories.\n",
        "SimplePuzzle = Dict[str, ID | Dict[Tuple[Clue, Color], Category]] # A SimplePuzzle associates \"id\" -> ID and \"wordCategories\" -> Dict[Tuple[Clue, Color], Category]"
      ],
      "metadata": {
        "id": "gczhLdQpxpTJ"
      },
      "execution_count": null,
      "outputs": []
    },
    {
      "cell_type": "markdown",
      "source": [
        "# Puzzle Scraping"
      ],
      "metadata": {
        "id": "-pWdxEk2sLSl"
      }
    },
    {
      "cell_type": "code",
      "source": [
        "import requests\n",
        "import json\n",
        "import datetime\n",
        "\n",
        "RawPuzzle = Dict[str, Any]      # A RawPuzzle is simply the unedited version returned from extraction. This should not be used past the scraping section.\n",
        "Date = datetime.datetime        # Alias for a Date object\n",
        "\n",
        "# Given a date object, return the raw puzzle for that day as a diict\n",
        "def getRawPuzzle(date: Date) -> RawPuzzle:\n",
        "  dateString = date.strftime('%Y-%m-%d')\n",
        "\n",
        "  call = \"https://www.nytimes.com/svc/connections/v2/\" + dateString + \".json\"\n",
        "\n",
        "  response = requests.get(call)\n",
        "  if response.status_code not in {200, 201}:\n",
        "    raise Exception(f\"Error: response for {call} was {response.status_code}\")\n",
        "\n",
        "  data = response.json()\n",
        "  status = data[\"status\"]\n",
        "  if status != \"OK\":\n",
        "    raise Exception(f\"Error: data status was {status}\")\n",
        "\n",
        "  return requests.get(call).json()"
      ],
      "metadata": {
        "id": "n-_TERr9rzLz"
      },
      "execution_count": null,
      "outputs": []
    },
    {
      "cell_type": "code",
      "source": [
        "# Given a raw puzzle, return a SimplePuzzle with just the ID, labels, colors, and (categories in lower case)\n",
        "def simplifyPuzzle(rawPuzzle: RawPuzzle) -> SimplePuzzle:\n",
        "  id = rawPuzzle[\"id\"]\n",
        "\n",
        "  wordCategories: Dict[Label, Category] = {}\n",
        "\n",
        "  for (color, protocategory) in zip(Color, rawPuzzle[\"categories\"]):   # Depends on the fact that puzzle jsons list their categories in the order YELLOW, GREEN, BLUE, PURPLE\n",
        "    clue: Clue = protocategory[\"title\"]\n",
        "    category: Category = {card[\"content\"].lower() for card in protocategory[\"cards\"]}\n",
        "\n",
        "    wordCategories[(clue, color)] = category\n",
        "\n",
        "  simplePuzzle = {\"id\": id, \"wordCategories\": wordCategories}\n",
        "  return simplePuzzle"
      ],
      "metadata": {
        "id": "YbQwnjkSspU2"
      },
      "execution_count": null,
      "outputs": []
    },
    {
      "cell_type": "code",
      "source": [
        "# Scrape all current puzzles and store in simplePuzzleData\n",
        "NUM_PUZZLES = 10000                                     # Number of puzzles to scrape. Set high to keep going until current day\n",
        "START_DATE = Date(year = 2023, month = 6, day = 12)     # The date of the first puzzle, as indicated by https://connections.swellgarfo.com/archive\n",
        "\n",
        "simplePuzzleData = []\n",
        "\n",
        "date = START_DATE\n",
        "i = 0\n",
        "while i < NUM_PUZZLES and date <= Date.today():\n",
        "  simplePuzzle = simplifyPuzzle(getRawPuzzle(date))\n",
        "  #print(simplePuzzle)\n",
        "  simplePuzzleData.append(simplePuzzle)\n",
        "\n",
        "  date += datetime.timedelta(days = 1)\n",
        "  i += 1\n",
        "\n",
        "# # Output to file\n",
        "# outputFilename = 'simplePuzzles.json'\n",
        "# with open(outputFilename, 'w') as f:\n",
        "#     json.dump(simplePuzzleList, f)\n",
        "#     print(\"Wrote to \" + outputFilename)"
      ],
      "metadata": {
        "id": "N4MCdaX4wXen"
      },
      "execution_count": null,
      "outputs": []
    },
    {
      "cell_type": "markdown",
      "source": [
        "# Label-aware Solvers\n",
        "NOTE: Unlike the Label-blind Solvers, this relies on the FILE and does not scrape the puzzles live!\n",
        "\n",
        "This is due to a change in how puzzles are represented"
      ],
      "metadata": {
        "id": "osSCCbcIpzYp"
      }
    },
    {
      "cell_type": "markdown",
      "source": [
        "### Base (Proof of concept) [Do Not Run Me!]\n"
      ],
      "metadata": {
        "id": "1xiDg0ozaxIP"
      }
    },
    {
      "cell_type": "code",
      "execution_count": null,
      "metadata": {
        "id": "bWeBTJl3RNNU"
      },
      "outputs": [],
      "source": [
        "# Dict: Word -> Category\n",
        "wordCategory = {}\n",
        "\n",
        "# Dict: Category -> Word\n",
        "categoryWord = {}\n",
        "\n",
        "with open(filePath) as f:\n",
        "  data = json.load(f)\n",
        "  #('data', data)\n",
        "  for i in range(len(data)):\n",
        "    # Sample: {'id': 1, 'wordCategories': {'WET WEATHER': ['HAIL', 'RAIN', 'SLEET', 'SNOW'], 'NBA TEAMS': ['BUCKS', 'HEAT', 'JAZZ', 'NETS'], 'KEYBOARD KEYS': ['OPTION', 'RETURN', 'SHIFT', 'TAB'], 'PALINDROMES': ['KAYAK', 'LEVEL', 'MOM', 'RACECAR']}}\n",
        "\n",
        "    # Create Words -> Category\n",
        "    for category, words in data[i]['wordCategories'].items():\n",
        "      tempWC = {word.lower(): category.lower() for word in words}\n",
        "      wordCategory.update(tempWC)\n",
        "\n",
        "    # Create Category -> Words\n",
        "    tempCW = {category.lower(): [word.lower() for word in words] for category, words in data[i]['wordCategories'].items()}\n",
        "    categoryWord.update(tempCW)\n",
        "\n",
        "  print(wordCategory)\n",
        "  print(categoryWord)\n",
        "\n",
        "\n",
        "# Word Embeddings for available words\n",
        "wordVectors = [word2VecModel[key] for key in wordCategory.keys() if key in word2VecModel]\n",
        "print('Loaded embeddings for words.')\n",
        "wordEmbeddings = {key: word2VecModel[key] for key in wordCategory.keys() if key in word2VecModel}\n",
        "print('Loaded embeddings for words in categories.')\n"
      ]
    },
    {
      "cell_type": "markdown",
      "source": [
        "### Fetch Word2Vec Model"
      ],
      "metadata": {
        "id": "-54Prap-c7Xh"
      }
    },
    {
      "cell_type": "code",
      "source": [
        "# Download a pre-trained model from https://github.com/piskvorky/gensim-data.\n",
        "model_names = [\"word2vec-google-news-300\", \"glove-wiki-gigaword-100\"]\n",
        "# Much smaller model because the larger model keeps failing halfway through download\n",
        "model_name = model_names[1]\n",
        "word2VecModel = api.load(model_name)\n",
        "print(f\"The model has been downloaded to\\n{word2VecModel} and loaded!\")"
      ],
      "metadata": {
        "id": "z80BrySuc6mU"
      },
      "execution_count": null,
      "outputs": []
    },
    {
      "cell_type": "code",
      "execution_count": null,
      "metadata": {
        "id": "2MH0zzPjRxSb"
      },
      "outputs": [],
      "source": [
        "# Query the word against the Word2Vec model\n",
        "# Get scores for this word compared to categories\n",
        "def process(word):\n",
        "    if word not in word2VecModel:\n",
        "        return f\"Word '{word}' not in the Word2Vec model.\"\n",
        "\n",
        "    queryEmbed = word2VecModel[word]\n",
        "    scores = {}\n",
        "    for word, embed in wordEmbeddings.items():\n",
        "        category = wordCategory[word]\n",
        "        dist = np.dot(queryEmbed, embed)\n",
        "        dist /= len(categoryWord[category])\n",
        "        scores[category] = scores.get(category, 0) + dist\n",
        "    return scores\n",
        "\n",
        "# Testing\n",
        "print(process('heat'))\n",
        "print(process('shift'))\n",
        "print(process('snow'))"
      ]
    },
    {
      "cell_type": "code",
      "execution_count": null,
      "metadata": {
        "id": "O84bRUQZ8ZSP"
      },
      "outputs": [],
      "source": [
        "# Convert list of vectors to a numpy array\n",
        "X = np.array(wordVectors)\n",
        "\n",
        "# Set the number of clusters\n",
        "num_clusters = 4\n",
        "\n",
        "# Perform K-means clustering\n",
        "kmeans = KMeans(n_clusters=num_clusters, random_state=0, n_init=\"auto\")\n",
        "kmeans.fit(X)\n",
        "\n",
        "# Get the cluster labels\n",
        "labels = kmeans.labels_\n",
        "\n",
        "# Print the clustered words\n",
        "clustered_words = {i: [] for i in range(num_clusters)}\n",
        "for word, label in zip(wordEmbeddings, labels):\n",
        "    clustered_words[label].append(word)\n",
        "\n",
        "for cluster, words in clustered_words.items():\n",
        "    print(f\"Cluster {cluster}: {words}\")"
      ]
    },
    {
      "cell_type": "markdown",
      "source": [
        "## Train on detailed games and create a custom Word2Vec model\n"
      ],
      "metadata": {
        "id": "ClDvfq8La6jE"
      }
    },
    {
      "cell_type": "code",
      "source": [
        "class TrainDetailedGames:\n",
        "    def __init__(self):\n",
        "        # self.categories = categories\n",
        "        # self.words = [word for wordList in categories.values() for word in wordList]\n",
        "        # self.trueLabels = [category for category, wordList in categories.items() for word in wordList]\n",
        "        self.wordVectors = None\n",
        "        self.model = None\n",
        "        self.predictedLabels = None\n",
        "        self.labelMapping = None\n",
        "        self.numClusters = 4\n",
        "        # Dict: Category -> Word\n",
        "        self.categoryWord = {}\n",
        "        self.data = None\n",
        "        self.words = []\n",
        "        self.trueLabels = []\n",
        "        self.corpus = []\n",
        "\n",
        "    def loadPuzzles(self, filePath):\n",
        "        if not os.path.exists(filePath):\n",
        "            !gsutil cp gs://cs221team/simplePuzzles.json simplePuzzles.json\n",
        "        with open(filePath) as f:\n",
        "            self.data = json.load(f)\n",
        "\n",
        "    def preprocessPuzzles(self):\n",
        "      for i in range(len(self.data)):\n",
        "          # Sample: {'id': 1, 'wordCategories': {'WET WEATHER': ['HAIL', 'RAIN', 'SLEET', 'SNOW'], 'NBA TEAMS': ['BUCKS', 'HEAT', 'JAZZ', 'NETS'], 'KEYBOARD KEYS': ['OPTION', 'RETURN', 'SHIFT', 'TAB'], 'PALINDROMES': ['KAYAK', 'LEVEL', 'MOM', 'RACECAR']}}\n",
        "          # Create Category -> Words\n",
        "          tempCW = {category.lower(): [word.lower() for word in words] for category, words in self.data[i]['wordCategories'].items()}\n",
        "          self.categoryWord.update(tempCW)\n",
        "      #print(\"self.categoryWord\", self.categoryWord)\n",
        "      self.trueLabels = [category for category, wordList in self.categoryWord.items() for word in wordList]\n",
        "      self.corpus = [wordList for category, wordList in self.categoryWord.items()]\n",
        "      self.words = [word for wordList in self.categoryWord.values() for word in wordList]\n",
        "\n",
        "\n",
        "    def trainWord2Vec(self):\n",
        "        self.model = Word2Vec(self.corpus, vector_size=100, window=5, min_count=1, workers=4)\n",
        "        self.wordVectors = np.array([self.model.wv[word] for word in self.words])\n",
        "        return (self.model, self.wordVectors)\n"
      ],
      "metadata": {
        "id": "kWu9ESbBa2-m"
      },
      "execution_count": null,
      "outputs": []
    },
    {
      "cell_type": "code",
      "source": [
        "training = TrainDetailedGames()\n",
        "training.loadPuzzles(\"simplePuzzles.json\")\n",
        "training.preprocessPuzzles()\n",
        "word2Vec = training.trainWord2Vec()"
      ],
      "metadata": {
        "id": "tbx4P8LEbjkO"
      },
      "execution_count": null,
      "outputs": []
    },
    {
      "cell_type": "markdown",
      "source": [
        "## K-Mean Clustering Class"
      ],
      "metadata": {
        "id": "P20uSbmubPZM"
      }
    },
    {
      "cell_type": "code",
      "source": [
        "class KMeansClustering:\n",
        "    def __init__(self, word2VecModel):\n",
        "        self.word2VecModel = word2VecModel\n",
        "        self.predictedLabels = None\n",
        "        self.trueLabels = []\n",
        "        self.labelMapping = None\n",
        "        self.numClusters = 4\n",
        "        self.words = []\n",
        "        self.trueLabels = []\n",
        "        self.corpus = []\n",
        "        # Dict: Category -> Word\n",
        "        self.categoryWord = {}\n",
        "        self.data = None\n",
        "\n",
        "    def queryMultipleKMeans(self, wordSets, n_clusters=4):\n",
        "        allClusters = []\n",
        "        for words in wordSets:\n",
        "            if len(words) != 16:\n",
        "                raise ValueError(\"Each set must contain exactly 16 words.\")\n",
        "            clusters = self.clusterWordsKMeans(words, n_clusters=n_clusters)\n",
        "            allClusters.append(clusters)\n",
        "        return allClusters\n",
        "\n",
        "    def clusterWordsKMeans(self, words, n_clusters=4):\n",
        "        vectors = []\n",
        "        validWords = []\n",
        "        for word in words:\n",
        "          vectors.append(self.word2VecModel[word])\n",
        "          validWords.append(word)\n",
        "          # if word in self.word2VecModel:\n",
        "          #     vectors.append(self.word2VecModel[word])\n",
        "          #     validWords.append(word)\n",
        "          # else:\n",
        "          #     return None\n",
        "\n",
        "        vectors = np.array(vectors)\n",
        "        kmeans = KMeans(n_init='auto', n_clusters=n_clusters, random_state=42)\n",
        "        clusters = kmeans.fit_predict(vectors)\n",
        "        self.predictedLabels = kmeans.labels_\n",
        "        #print(f\"predictedLabels {self.predictedLabels}\")\n",
        "\n",
        "        result = {}\n",
        "        for word, cluster in zip(validWords, clusters):\n",
        "            if cluster not in result:\n",
        "                result[cluster] = []\n",
        "            result[cluster].append(word)\n",
        "        return result\n",
        "\n",
        "    def loadPuzzles(self, filePath):\n",
        "        if not os.path.exists(filePath):\n",
        "            !gsutil cp gs://cs221team/simplePuzzles.json simplePuzzles.json\n",
        "        # rawData = pd.read_json(filePath, lines=False, orient='columns')\n",
        "        # return rawData\n",
        "        with open(filePath) as f:\n",
        "            self.data = json.load(f)\n",
        "\n",
        "    # Remove a game that contains words that do not exist in the Word2Vec model.\n",
        "    def isValid(self, wordList):\n",
        "        for word in wordList:\n",
        "            if word not in self.word2VecModel:\n",
        "              # print(f\"Invalid word: {word}\")\n",
        "              return False\n",
        "        return True\n",
        "\n",
        "    def preprocessPuzzles(self):\n",
        "        allGameWords = []\n",
        "        removedCount = 0\n",
        "        for i in range(len(self.data)):\n",
        "          tempCW = {category.lower(): [word.lower() for word in words] for category, words in self.data[i]['wordCategories'].items()}\n",
        "          mergeWords = [value for value in self.data[i]['wordCategories'].values()]\n",
        "          flattenWords = [item.lower() for sublist in mergeWords for item in sublist]\n",
        "          if not self.isValid(flattenWords):\n",
        "            # skip this game\n",
        "            removedCount += 1\n",
        "            continue\n",
        "          allGameWords.append(flattenWords)\n",
        "          self.categoryWord.update(tempCW)\n",
        "\n",
        "        self.words = [word for wordList in self.categoryWord.values() for word in wordList]\n",
        "        self.trueLabels = [category for category, wordList in self.categoryWord.items() for word in wordList]\n",
        "        self.corpus = [wordList for category, wordList in self.categoryWord.items()]\n",
        "        print(f\"{removedCount} invalid games / removed\")\n",
        "        # print(\"allGameWords\", allGameWords)\n",
        "        return allGameWords\n",
        "\n",
        "    def mapClustersToCategories(self):\n",
        "      self.labelMapping = {}\n",
        "      # print(\"self.predictedLabels\", self.predictedLabels)\n",
        "      # print(\"self.trueLabels\", self.trueLabels)\n",
        "      for cluster in range(self.numClusters):\n",
        "          clusterIndices = np.where(self.predictedLabels == cluster)[0]\n",
        "          clusterTrueLabels = [self.trueLabels[i] for i in clusterIndices]\n",
        "          mostCommonLabel = Counter(clusterTrueLabels).most_common(1)[0][0]\n",
        "          self.labelMapping[cluster] = mostCommonLabel"
      ],
      "metadata": {
        "id": "U79bodc8bTSa"
      },
      "execution_count": null,
      "outputs": []
    },
    {
      "cell_type": "markdown",
      "source": [
        "### Result Helper"
      ],
      "metadata": {
        "id": "6t-7m4CJb9qN"
      }
    },
    {
      "cell_type": "code",
      "source": [
        "def result(kMeansResults):\n",
        "  count = 0\n",
        "  countClusterThree = 0\n",
        "  countClusterFour = 0\n",
        "  countCorrectClusterFour = 0\n",
        "  clusterThree = []\n",
        "  clusterFour = []\n",
        "  clusterFourCorrect = []\n",
        "\n",
        "  for result in kMeansResults:\n",
        "      count += 1\n",
        "      if result is None:\n",
        "          continue\n",
        "      hasFourClusters = True\n",
        "      clusterThreeCount = 0\n",
        "      clusterFourCount = 0\n",
        "      clusterFourCorrectCount = 0\n",
        "      for key, value in result.items():\n",
        "        # print(\"key\", key, \"value\", value)\n",
        "        if len(value) == 4:\n",
        "          if value in kMeansClusteringCustom.categoryWord.values():\n",
        "            clusterFourCorrectCount += 1\n",
        "          clusterFourCount += 1\n",
        "          #print(key, value)\n",
        "        elif len(value) == 3:\n",
        "            clusterThreeCount += 1\n",
        "      clusterThree.append(clusterThreeCount)\n",
        "      clusterFour.append(clusterFourCount)\n",
        "      clusterFourCorrect.append(clusterFourCorrectCount)\n",
        "\n",
        "  # Number of games that have a cluster of four words\n",
        "  for c in clusterFour:\n",
        "    if c > 0:\n",
        "      countClusterFour += 1\n",
        "  # Number of games that have a correct cluster of four words\n",
        "  for c in clusterFourCorrect:\n",
        "    if c > 0:\n",
        "      countCorrectClusterFour += 1\n",
        "  for c in clusterThree:\n",
        "    if c > 0:\n",
        "      countClusterThree += 1\n",
        "  print(f\"countCorrectClusterFour {countCorrectClusterFour}\")\n",
        "  print(f\"countClusterFour {countClusterFour}\")\n",
        "  print(f\"countClusterThree {countClusterThree}\")\n"
      ],
      "metadata": {
        "id": "-FL6gJsdcAHM"
      },
      "execution_count": null,
      "outputs": []
    },
    {
      "cell_type": "markdown",
      "source": [
        "## Let's play NYT Connections with K-Means!"
      ],
      "metadata": {
        "id": "XX2POGQCcLkA"
      }
    },
    {
      "cell_type": "code",
      "source": [
        "# Initialize the KMeansClustering class with custom word2vec\n",
        "\n",
        "# Load and preprocess puzzles\n",
        "filePath = \"simplePuzzles.json\"\n",
        "\n",
        "training = TrainDetailedGames()\n",
        "training.loadPuzzles(filePath)\n",
        "training.preprocessPuzzles()\n",
        "customWord2VecModel, customWordVecetors = training.trainWord2Vec()\n",
        "print(\"\\nDone training on detailed games and creating a custom Word2Vec model!\\n\")\n",
        "\n",
        "print(\"\\nClustering with game details (with the custom Word2Vec model)\")\n",
        "# Initialize the KMeansClustering class\n",
        "kMeansClusteringCustom = KMeansClustering(customWord2VecModel.wv)\n",
        "kMeansClusteringCustom.loadPuzzles(filePath)\n",
        "allGameWords = kMeansClusteringCustom.preprocessPuzzles()\n",
        "print(\"Game size:\", len(allGameWords))\n",
        "kMeansCustomResults = kMeansClusteringCustom.queryMultipleKMeans(allGameWords)\n",
        "result(kMeansCustomResults)\n",
        "\n",
        "print(\"\\nClustering without game details (with the pre-trained Word2Vec model)\")\n",
        "# Initialize the KMeansClustering class\n",
        "kMeansClustering = KMeansClustering(word2VecModel)\n",
        "kMeansClustering.loadPuzzles(filePath)\n",
        "allGameWords = kMeansClustering.preprocessPuzzles()\n",
        "print(\"Game size:\", len(allGameWords))\n",
        "\n",
        "# Perform KMeans clustering\n",
        "kMeansResults = kMeansClustering.queryMultipleKMeans(allGameWords)\n",
        "result(kMeansResults)\n"
      ],
      "metadata": {
        "colab": {
          "base_uri": "https://localhost:8080/"
        },
        "id": "uQTVekZWcOqi",
        "outputId": "11bca63c-6804-403c-c948-cc26ecdd62c4"
      },
      "execution_count": null,
      "outputs": [
        {
          "output_type": "stream",
          "name": "stdout",
          "text": [
            "\n",
            "Done training on detailed games and creating a custom Word2Vec model!\n",
            "\n",
            "\n",
            "Clustering with game details (with the custom Word2Vec model)\n",
            "41 invalid games / removed\n",
            "Game size: 301\n",
            "countCorrectClusterFour 1\n",
            "countClusterFour 173\n",
            "countClusterThree 172\n",
            "\n",
            "Clustering without game details (with the pre-trained Word2Vec model)\n",
            "35 invalid games / removed\n",
            "Game size: 307\n",
            "countCorrectClusterFour 19\n",
            "countClusterFour 147\n",
            "countClusterThree 158\n"
          ]
        }
      ]
    },
    {
      "cell_type": "markdown",
      "source": [
        "# Label-blind Solvers\n"
      ],
      "metadata": {
        "id": "QfZzpovpIDoK"
      }
    },
    {
      "cell_type": "markdown",
      "source": [
        "## Data Cleanup"
      ],
      "metadata": {
        "id": "1yayNJGpKXkE"
      }
    },
    {
      "cell_type": "code",
      "source": [
        "# Automatically filters out all puzzles that have a solution Word not present in the current word2vec model\n",
        "# (!!!) As such, the indices for the puzzles MAY NOT MATCH across different word2vec models\n",
        "\n",
        "# Returns whether the provided puzzle contains only words present in the global word2vec model\n",
        "def isPuzzleWordCompliant(simplePuzzle: SimplePuzzle) -> bool:\n",
        "  words: UnsolvedPuzzle = set.union(*simplePuzzle[\"wordCategories\"].values())\n",
        "  return all((word in word2VecModel.key_to_index) for word in words)\n",
        "    # return words.isSubset()\n",
        "\n",
        "\n",
        "# cleanedData: List[SimplePuzzle] = [{\"id\" : entry[\"id\"], \"wordCategories\": {clue : set(map(str.lower, category)) for (clue, category) in entry[\"wordCategories\"].items()}} for entry in data]\n",
        "compliantSimplePuzzleData = list(filter(isPuzzleWordCompliant, simplePuzzleData))\n",
        "print(f\"Number of puzzles compliant with {modelName} = {len(compliantSimplePuzzleData)}/{len(simplePuzzleData)}\")"
      ],
      "metadata": {
        "id": "rrEJYN_KIdY4",
        "colab": {
          "base_uri": "https://localhost:8080/"
        },
        "outputId": "96af9736-bfbb-47ce-ced3-199133890c31"
      },
      "execution_count": null,
      "outputs": [
        {
          "output_type": "stream",
          "name": "stdout",
          "text": [
            "Number of puzzles compliant with glove-wiki-gigaword-50 = 321/357\n"
          ]
        }
      ]
    },
    {
      "cell_type": "markdown",
      "source": [
        "## InteractivePuzzle Class\n",
        "\n",
        "A class for interacting with a puzzle\n",
        "\n",
        "This allows an agent to input guesses and returns feedback. Keeps track of number of INCORRECT guesses\n",
        "\n",
        "An object of this type CANNOT be reset. To reset game progress, create a new object with the same initial puzzle data.\n",
        "\n",
        "\n"
      ],
      "metadata": {
        "id": "GK57I7LJKdP3"
      }
    },
    {
      "cell_type": "code",
      "source": [
        "from enum import Enum\n",
        "\n",
        "class InteractivePuzzle:\n",
        "  # Enum for guess feedback (may also expand to yield color of category)\n",
        "  class GuessFeedback(Enum):\n",
        "    INCORRECT = 1\n",
        "    ONE_OFF = 2\n",
        "    CORRECT = 3\n",
        "\n",
        "  # Initializes the interactive from a given puzzle\n",
        "  def __init__(self, simplePuzzle: SimplePuzzle):\n",
        "    self.labelsToCategories: Dict[(Clue, Color), Category] = simplePuzzle[\"wordCategories\"].copy()\n",
        "    self.numIncorrectGuesses: int = 0\n",
        "\n",
        "  # Generates the current remaining UnsolvedPuzzle based on the remaining categories\n",
        "  # len of output should be a multiple of four\n",
        "  def getRemainingUnsolvedPuzzle(self) -> UnsolvedPuzzle:\n",
        "    categories = self.labelsToCategories.values()\n",
        "\n",
        "    if categories:\n",
        "      return set.union(*categories)\n",
        "    else:\n",
        "      return set()\n",
        "\n",
        "  # Accepts a guess and returns the correct feedback. Increments guesses remaining.\n",
        "  # If the guess is correct, the appropriate word category is REMOVED. An assertion will be failed if the guess contains a word no longer remaining\n",
        "  def submitGuess(self, guessedCategory: Category):\n",
        "    # Assert that the guess only contains words remaining in the puzzle\n",
        "    assert not guessedCategory - self.getRemainingUnsolvedPuzzle(), f\"Guessed category contained words {guessedCategory - self.getRemainingUnsolvedPuzzle()}, which are no longer in the puzzle!\"\n",
        "\n",
        "    # Assert that the guess is exactly 4 words\n",
        "    assert len(guessedCategory) == 4,  f\"Guessed category contained {len(guessedCategory)} words instead of 4\"\n",
        "\n",
        "    # Identify the solution category with the largest overlap with the guess\n",
        "    closestCategoryClue = None\n",
        "    closestCategory = None\n",
        "    largestOverlap = 0\n",
        "    for (clue, category) in self.labelsToCategories.items():\n",
        "      if len(category & guessedCategory) > largestOverlap:\n",
        "        closestCategoryClue = clue\n",
        "        closestCategory = category\n",
        "        largestOverlap = len(category & guessedCategory)\n",
        "\n",
        "    # If the guess is correct, remove the category and do NOT increment numIncorrectGuesses\n",
        "    if largestOverlap == 4:\n",
        "      del self.labelsToCategories[closestCategoryClue]\n",
        "      return InteractivePuzzle.GuessFeedback.CORRECT\n",
        "\n",
        "    # Otherwise, return the appropriate error and increment the number of incorrect guesses\n",
        "    elif largestOverlap == 3:\n",
        "      self.numIncorrectGuesses += 1\n",
        "      return InteractivePuzzle.GuessFeedback.ONE_OFF\n",
        "\n",
        "    else:\n",
        "      self.numIncorrectGuesses += 1\n",
        "      return InteractivePuzzle.GuessFeedback.INCORRECT\n",
        "\n",
        "  # Returns TRUE iff game has been solved empty\n",
        "  def isOver(self):\n",
        "    return not self.labelsToCategories\n"
      ],
      "metadata": {
        "id": "3IgUPM0Nsfd2"
      },
      "execution_count": null,
      "outputs": []
    },
    {
      "cell_type": "markdown",
      "source": [
        "## PuzzleAgent Class\n",
        "An abstract class for an agent/solver that can interface with an InteractivePuzzle"
      ],
      "metadata": {
        "id": "OVn3teWWKzNK"
      }
    },
    {
      "cell_type": "code",
      "source": [
        "# Abstract class for solving a puzzle\n",
        "class PuzzleAgent:\n",
        "  def __init__(self, interactivePuzzle: InteractivePuzzle):\n",
        "    raise NotImplementedError(\"Override me\")\n",
        "\n",
        "  def getNextMove(self) -> Category:\n",
        "      raise NotImplementedError(\"Override me\")\n",
        "\n",
        "  def incorporateFeedback(self, guess: Category, result: InteractivePuzzle.GuessFeedback):\n",
        "      raise NotImplementedError(\"Override me\")"
      ],
      "metadata": {
        "id": "91zIbqX9Gj0m"
      },
      "execution_count": null,
      "outputs": []
    },
    {
      "cell_type": "markdown",
      "source": [
        "## Baseline models\n",
        "\n",
        "These three classes represent word-blind baselines that make no use of the actual words in the puzzle themselves. Essentially, they are three different methods of brute force.\n",
        "\n",
        "1. **RandomAgent** guesses randomly given the remaining words\n",
        "\n",
        "2. **RandomMemoAgent** guesses randomly given the remaining words, but avoids repeating guesses\n",
        "\n",
        "3. **SmartRandomAgent** guesses randomly avoiding repetition and in a smart order that takes advantage of information progression.\n",
        "(Specifically, it fixes one \"anchor word\" and tries all other combos of 3)"
      ],
      "metadata": {
        "id": "WWFDNwqEKy0B"
      }
    },
    {
      "cell_type": "code",
      "source": [
        "import random\n",
        "from collections import deque\n",
        "import itertools"
      ],
      "metadata": {
        "id": "oDzjlVJoLpq9"
      },
      "execution_count": null,
      "outputs": []
    },
    {
      "cell_type": "code",
      "source": [
        "# Creates random guesses for categories\n",
        "class RandomAgent(PuzzleAgent):\n",
        "  def __init__(self, interactivePuzzle: InteractivePuzzle):\n",
        "    self.interactivePuzzle = interactivePuzzle\n",
        "\n",
        "  def getNextMove(self) -> Category:\n",
        "    return set(random.sample(list(self.interactivePuzzle.getRemainingUnsolvedPuzzle()), 4))\n",
        "\n",
        "  def incorporateFeedback(self, guess: Category, result: InteractivePuzzle.GuessFeedback):\n",
        "    return"
      ],
      "metadata": {
        "id": "XH7R5hL4Mraf"
      },
      "execution_count": null,
      "outputs": []
    },
    {
      "cell_type": "code",
      "source": [
        "# Creates random guesses for categories, but memoizes old guesses\n",
        "class RandomMemoAgent(PuzzleAgent):\n",
        "  def __init__(self, interactivePuzzle: InteractivePuzzle):\n",
        "    self.interactivePuzzle = interactivePuzzle\n",
        "    self.pastGuesses = set()\n",
        "\n",
        "  def getNextMove(self) -> Category:\n",
        "    randomMove = None\n",
        "\n",
        "    while not randomMove or randomMove in self.pastGuesses:\n",
        "      randomMove = frozenset(random.sample(list(self.interactivePuzzle.getRemainingUnsolvedPuzzle()), 4))\n",
        "\n",
        "    return randomMove\n",
        "\n",
        "  def incorporateFeedback(self, guess: Category, result: InteractivePuzzle.GuessFeedback):\n",
        "    self.pastGuesses.add(guess)\n",
        "    return"
      ],
      "metadata": {
        "id": "QX26RGQ1MzWJ"
      },
      "execution_count": null,
      "outputs": []
    },
    {
      "cell_type": "code",
      "source": [
        "# Guesses, but in a smart order that takes advantage of information progression\n",
        "class SmartRandomAgent(PuzzleAgent):\n",
        "  def __init__(self, interactivePuzzle: InteractivePuzzle):\n",
        "    self.interactivePuzzle: InteractivePuzzle = interactivePuzzle\n",
        "    self.anchorWord: Word = None\n",
        "\n",
        "  def getNextMove(self) -> Category:\n",
        "    # If anchor word is unset, set to first and create list of three to try with each\n",
        "    if self.anchorWord is None:\n",
        "      remainingUnsolvedPuzzle: UnsolvedPuzzle = self.interactivePuzzle.getRemainingUnsolvedPuzzle()\n",
        "      self.anchorWord = next(iter(remainingUnsolvedPuzzle)) # select arbitrary remaining word\n",
        "      self.threeSets = deque(itertools.combinations(remainingUnsolvedPuzzle - {self.anchorWord}, 3))\n",
        "\n",
        "    return set(self.threeSets.pop()) | {self.anchorWord}\n",
        "\n",
        "  def incorporateFeedback(self, guess: Category, result: InteractivePuzzle.GuessFeedback):\n",
        "    if result == InteractivePuzzle.GuessFeedback.CORRECT:\n",
        "      self.anchorWord = None"
      ],
      "metadata": {
        "id": "Ku8GYCTsM317"
      },
      "execution_count": null,
      "outputs": []
    },
    {
      "cell_type": "markdown",
      "source": [
        "## Non-baseline models"
      ],
      "metadata": {
        "id": "kmrsaLkQNBU9"
      }
    },
    {
      "cell_type": "markdown",
      "source": [
        "### Agent Type Classes\n",
        "These consist of one abstract class that provides a general model for a class of PuzzleAgents."
      ],
      "metadata": {
        "id": "W89yBignNILk"
      }
    },
    {
      "cell_type": "markdown",
      "source": [
        "**ExpandingAgent** works as so:\n",
        "\n",
        "1. The agent keeps an internal queue of guesses to try.\n",
        "2. When making a move, the agent chooses the next guess in the queue that has not already been tried before.\n",
        "3. If there is no such move in the queue, then the agent calls queryGenerator() to add strictly more guesses into the queue.\n",
        "4. If at any point, the agent makes a correct guess, then the queue and generator are reset. (the latter using resetGenerator())\n",
        "\n",
        "To ensure victory, queryGenerator() must always enqueue a new guesses. In other words, queryGenerator() must eventually encompass the entire set of 1820 guesses."
      ],
      "metadata": {
        "id": "F80yvkOSNYqD"
      }
    },
    {
      "cell_type": "markdown",
      "source": [
        "### ExpandingAgent (abstract)"
      ],
      "metadata": {
        "id": "2pm0Gv9XFdy5"
      }
    },
    {
      "cell_type": "code",
      "source": [
        "class ExpandingAgent(PuzzleAgent):\n",
        "  VERBOSE = False\n",
        "\n",
        "  def __init__(self, interactivePuzzle: InteractivePuzzle):\n",
        "    self.interactivePuzzle = interactivePuzzle\n",
        "\n",
        "    self.pastGuesses = set()\n",
        "    self.guessQueue = deque()\n",
        "\n",
        "    self.resetGenerator()\n",
        "\n",
        "    return\n",
        "\n",
        "  def getNextMove(self) -> Category:\n",
        "    # Get the next queued guess that hasn't already been tried\n",
        "    while True:\n",
        "      move = None\n",
        "      # Pop until the next move that hasn't been tried before\n",
        "      while len(self.guessQueue) > 0 and (move == None or move in self.pastGuesses):\n",
        "        move = self.guessQueue.popleft()\n",
        "\n",
        "      # If we've depleted our guess queue, generate more guesses\n",
        "      if move is None:\n",
        "        self.queryGenerator()\n",
        "      # Otherwise, return the chosen move\n",
        "      else:\n",
        "        return move\n",
        "\n",
        "  def incorporateFeedback(self, guess: Category, result: InteractivePuzzle.GuessFeedback):\n",
        "    # If the guess is correct, reset the generator to square one\n",
        "    if result == InteractivePuzzle.GuessFeedback.CORRECT:\n",
        "      self.resetGenerator()\n",
        "\n",
        "      if ExpandingAgent.VERBOSE:\n",
        "        print(f\"The guess {guess} was correct!\")\n",
        "\n",
        "    # Memoize the guess we just tried\n",
        "    self.pastGuesses.add(guess)\n",
        "    return\n",
        "\n",
        "  # Reset the internal guess generator\n",
        "  def resetGenerator(self) -> None:\n",
        "    raise NotImplementedError(\"Override me\")\n",
        "\n",
        "  # Query the internal guess generator to add more to the queue of guesses\n",
        "  # Must progressively generate a larger set of possible guesses, until it encompasses all!\n",
        "  def queryGenerator(self) -> None:\n",
        "    raise NotImplementedError(\"Override me\")"
      ],
      "metadata": {
        "id": "qM5US3X5704I"
      },
      "execution_count": null,
      "outputs": []
    },
    {
      "cell_type": "markdown",
      "source": [
        "### DBSCANPartitionAgent"
      ],
      "metadata": {
        "id": "SDQRAaunOdTy"
      }
    },
    {
      "cell_type": "markdown",
      "source": [
        "**DBSCANPartitionAgent** is an instantiation of **ExpandingAgent** following a simple (though slow) algorithm.\n",
        "\n",
        "The generator is based on DBSCAN:\n",
        "1. Partition the 16/12/8 words into clusters starting with eps=0.1\n",
        "2. If there are any non-noise cluster with at least 4 words in proximity, enqueue all guesses of 4 words from this cluster\n",
        "3. If there are no such clusters, increment eps by EPS_INCREMENT and return to (1.)\n",
        "\n",
        "The EPS_INCREMENT is very important: since DBscan is non-deterministic (for some reason), smaller increments retain precision and allow DBscan to retry clusters it might have missed.\n",
        "\n",
        "The idea is that we start by guessing within the first discovered densest cluster of 4 or more words. If this fails, we search for a larger cluster.\n",
        "\n",
        "This function is NOT deterministic due to dbscan non-determinism. I have found no easy way to fix this.\n",
        "\n",
        "Possible modifications\n",
        "- Make this run faster! It and its super class **ExpandingAgent** are coded very inefficiently\n",
        "- Consider trying the \"anchor 3 words + try all other\" strategy if a cluster yields 3 related words\n",
        "\n",
        "- Instead of using Euclidean distance, use cosine similarity (which is built into word2vec)"
      ],
      "metadata": {
        "id": "5oER9584OkRn"
      }
    },
    {
      "cell_type": "code",
      "source": [
        "import pandas as pd\n",
        "import math\n",
        "from sklearn.cluster import DBSCAN\n",
        "from sklearn.metrics import pairwise_distances\n",
        "import heapq\n",
        "\n",
        "Cluster = Set[Word]   # May be more or less than 4 words\n",
        "MetricName = str      # Specifies metric type (i.e. euclidean vs cosine)\n",
        "\n",
        "\n",
        "# Progressive expand DBSCANpartition until we gain a cluster of at least 4 words\n",
        "class DBSCANPartitionAgent(ExpandingAgent):\n",
        "  EPS_INCREMENT = 0.01\n",
        "  METRIC_NAME = \"cosine\"\n",
        "\n",
        "  # In our constructor, also initialize formed clusters to avoid queue clusters that we already made\n",
        "  def __init__(self, interactivePuzzle: InteractivePuzzle):\n",
        "    super().__init__(interactivePuzzle)\n",
        "\n",
        "    self.pastClusters = set()         # stores already formed clusters\n",
        "\n",
        "  # Reset the internal guess generator by setting...\n",
        "  # - eps back to its default value\n",
        "  # - clear the guess queue\n",
        "  def resetGenerator(self) -> None:\n",
        "\n",
        "    # reset eps to the minimum distance (not guaranteed to be the least needed for a cluster, but a good start)\n",
        "    self.eps = DBSCANPartitionAgent.minPairwiseDistance(self.interactivePuzzle.getRemainingUnsolvedPuzzle())\n",
        "\n",
        "    # remove any guesses remaining in the queue\n",
        "    self.guessQueue.clear()\n",
        "\n",
        "    return\n",
        "\n",
        "  # Calculates the smallest distance between two points\n",
        "  # This is a good initial value for eps, although quirks of the DBscan implementation mean that clusters can be found at lower eps than this\n",
        "  def minPairwiseDistance(unsolvedPuzzle: UnsolvedPuzzle, metricName: MetricName = METRIC_NAME) -> float:\n",
        "      # Convert to word vectors. Order does not matter!\n",
        "      wordVectors = np.array([word2VecModel[word] for word in unsolvedPuzzle])\n",
        "\n",
        "      # Compute the pairwise distance array using the given metric\n",
        "      pairwiseDistancesArray = pairwise_distances(wordVectors, metric = metricName)\n",
        "      pairwiseDistanceTriangle = np.triu(pairwiseDistancesArray, k=1)                # Extract only entries above the diagonal, to avoid duplication and 0 distance to self\n",
        "\n",
        "      # np.set_printoptions(precision=3)\n",
        "      # print(pairwiseDistanceTriangle)\n",
        "      pairwiseDistanceGenerator = filter(lambda x: x != 0, np.concatenate(pairwiseDistanceTriangle))\n",
        "      # fourSmallestDistances = heapq.nsmallest(4, )\n",
        "\n",
        "      return min(pairwiseDistanceGenerator, default = float('-inf'))    # distance of an empty set is defined to be -infinity\n",
        "\n",
        "  # Paritition the words using the DBscan clustering with the provided parameters\n",
        "  def DBSCANpartition(unsolvedPuzzle: UnsolvedPuzzle, eps: float, min_samples: int, metricName: MetricName = METRIC_NAME) -> Dict[int, Cluster]:\n",
        "    # (!) Sort and listify to make order consistent\n",
        "    unsolvedPuzzleList = sorted(list(unsolvedPuzzle))\n",
        "    wordVectors = np.array([word2VecModel[word] for word in unsolvedPuzzleList])\n",
        "\n",
        "    # Perform the DBSCAN\n",
        "    DBscan = DBSCAN(eps = eps, min_samples = min_samples, metric = metricName)\n",
        "    clusterLabels = DBscan.fit_predict(wordVectors)\n",
        "\n",
        "    # Construct the partition\n",
        "    partition = {clusterLabel : set() for clusterLabel in clusterLabels}\n",
        "\n",
        "    for word, clusterLabel in zip(unsolvedPuzzleList, clusterLabels):\n",
        "      partition[clusterLabel].add(word)\n",
        "\n",
        "    return partition\n",
        "\n",
        "  # Generate progressively larger guess queue\n",
        "  def queryGenerator(self) -> None:\n",
        "    # Run DBSCANpartition on eps\n",
        "    partition = DBSCANPartitionAgent.DBSCANpartition(self.interactivePuzzle.getRemainingUnsolvedPuzzle(), eps = self.eps, min_samples = 4)    # 4 is fixed\n",
        "\n",
        "    # Remove -1 (noise points)\n",
        "    partition.pop(-1, None)\n",
        "\n",
        "    # For every NEW remaining part with at least 4 elements, add all of its combinations into the queue\n",
        "    for cluster in map(frozenset, partition.values()):\n",
        "      if len(cluster) >= 4 and cluster not in self.pastClusters:\n",
        "\n",
        "        if ExpandingAgent.VERBOSE:\n",
        "          print(f\"Queuing guessed based on {cluster}\")\n",
        "\n",
        "        self.guessQueue.extend(map(frozenset, itertools.combinations(cluster, 4)))\n",
        "        self.pastClusters.add(cluster)      # Requires cluster be a frozen set\n",
        "\n",
        "    if ExpandingAgent.VERBOSE:\n",
        "      print(f\"\\tFor eps = {self.eps}, partition = {partition}\")\n",
        "\n",
        "    # Update eps\n",
        "    self.eps += DBSCANPartitionAgent.EPS_INCREMENT\n",
        "\n",
        "    return"
      ],
      "metadata": {
        "id": "v1Hpf1tu4Bcn"
      },
      "execution_count": null,
      "outputs": []
    },
    {
      "cell_type": "markdown",
      "source": [
        "## Evaluation\n",
        "\n",
        "evaluatePerformance():\n",
        "Runs the provided **PuzzleAgent** against the provided test set of **SimplePuzzles**, T times. Returns the mean number of incorrect guesses needed.\n",
        "\n",
        "Modifications needed\n",
        "- Would be good to compare performance *per puzzle*\n",
        "- Would be nice to plot game performance over each round (how long does it take to get from 16 -> 12, 12 -> 8, 8 -> 4)"
      ],
      "metadata": {
        "id": "7CJxoxg2PQDY"
      }
    },
    {
      "cell_type": "code",
      "source": [
        "import matplotlib.pyplot as plt\n",
        "\n",
        "# y1 = [3, 12, 5, 18, 45]\n",
        "# y2 = [7, 8, 15, 0, 20]\n",
        "# x = ('A', 'B', 'C', 'D', 'E')\n",
        "\n",
        "# df = pd.DataFrame({'y1': y1, 'x': x})\n",
        "\n",
        "# color1 = ['lightblue', 'blue', 'purple', 'red', 'black']\n",
        "# color2 = ['green', 'red', 'green', 'green', 'green']\n",
        "\n",
        "# # Create bars\n",
        "# fig, ax = plt.subplots()\n",
        "# ax.bar(df['x'], df['y1'], color=color1)\n",
        "# plt.bar(x, y2, bottom=y1, color=color2)\n",
        "\n",
        "# # Show graph\n",
        "# plt.show()\n",
        "\n",
        "class Evaluator:\n",
        "  # Type representing a performance report of an agent for a single game\n",
        "  # Element 0 is the first solved category involving a tuple of (Color, Number of Tries)\n",
        "  # Element 1 is the second solved category, and so forth\n",
        "\n",
        "  LevelPerformance = Tuple[int, Color]\n",
        "  Performance = Tuple[LevelPerformance, LevelPerformance, LevelPerformance]\n",
        "\n",
        "  # Return the full performance report for an agent on a single game\n",
        "  def evaluateOneGamePerformance(puzzleAgentConstructor, simplePuzzle: SimplePuzzle) -> Performance:\n",
        "    interactivePuzzle = InteractivePuzzle(simplePuzzle)\n",
        "    puzzleAgent = puzzleAgentConstructor(interactivePuzzle)\n",
        "\n",
        "    # Extract label from a correct category\n",
        "    getLabelFromCategory = lambda category: list(simplePuzzle[\"wordCategories\"].keys())[list(simplePuzzle[\"wordCategories\"].values()).index(category)]\n",
        "\n",
        "    levels = []\n",
        "    previousNumIncorrectGuesses = 0\n",
        "\n",
        "    while not interactivePuzzle.isOver():\n",
        "      guess = puzzleAgent.getNextMove()\n",
        "      feedback = interactivePuzzle.submitGuess(guess)\n",
        "\n",
        "      if not interactivePuzzle.isOver():\n",
        "        puzzleAgent.incorporateFeedback(guess, feedback)\n",
        "\n",
        "      if(feedback == InteractivePuzzle.GuessFeedback.CORRECT):\n",
        "        # Extract the corresponding color\n",
        "        (clue, color) = getLabelFromCategory(guess)\n",
        "\n",
        "        # Extract the number of guesses spent on THIS level\n",
        "        levelNumIncorrectGuesses = interactivePuzzle.numIncorrectGuesses - previousNumIncorrectGuesses\n",
        "        previousNumIncorrectGuesses = interactivePuzzle.numIncorrectGuesses\n",
        "\n",
        "        # Add to the end of levels\n",
        "        levels.append((levelNumIncorrectGuesses, color))\n",
        "\n",
        "    performance = tuple(levels)\n",
        "    return performance\n",
        "\n",
        "  # Given a test set of simple puzzles, return a dictionary associating IDs to one-trial performance\n",
        "  def evaluatePerformance(puzzleAgentConstructor, testSet: Set[SimplePuzzle]) -> Dict[ID, Performance]:\n",
        "    return {simplePuzzle[\"id\"]: Evaluator.evaluateOneGamePerformance(puzzleAgentConstructor, simplePuzzle) for simplePuzzle in testSet}\n",
        "\n",
        "  # Given a dictionary associating IDs to performance, return a nice plot of performance\n",
        "  # - plot first level on bottom, second level on top of first, third level on top --> stacked bar\n",
        "  # - color code each level according to the LEVEL NUMBER, not the color. The color is really ugly\n",
        "\n",
        "  def plotPerformance(idsToPerformance: Dict[ID, Performance]):\n",
        "    # Associate each enum color to a color string. BOGO: update to match colors exactly\n",
        "    # colorDict: Dict[Color, str] = {Color.YELLOW: \"yellow\", Color.GREEN: \"green\", Color.BLUE: \"blue\", Color.PURPLE: \"purple\"}\n",
        "\n",
        "    colorList = [\"red\", \"blue\", \"pink\", \"black\"]\n",
        "\n",
        "    # For each puzzle-performance pair, we need to collect the IDs, the color of level1/2/3, and the num incorrect guesses for level1/2/3\n",
        "    ids: List[ID] = []\n",
        "    levelNumIncorrectGuesses: Tuple[int, int, int, int] = ([], [], [], [])\n",
        "    levelColors: Tuple[List[Color], List[Color], List[Color], List[Color]] = ([], [], [], [])\n",
        "\n",
        "    for (id, performance) in idsToPerformance.items():\n",
        "      ids.append(str(id))                                         # Cast to string (not int)\n",
        "\n",
        "      for (level, (incorrectGuesses, color)) in enumerate(performance):\n",
        "        levelNumIncorrectGuesses[level].append(incorrectGuesses)\n",
        "        # levelColors[level].append(colorDict[Color[color.name]])   # no clue why we have to do Color[color.name] <- this is for color coding according to category color, not level\n",
        "        levelColors[level].append(colorList[level])\n",
        "\n",
        "    print(f\"idsToPerformance = {idsToPerformance}\")\n",
        "    print(f\"ids = {ids}\")\n",
        "    print(f\"levelNumIncorrectGuesses = {levelNumIncorrectGuesses}\")\n",
        "    print(f\"levelColors = {levelColors}\")\n",
        "\n",
        "    # Create the plot\n",
        "    fig, ax = plt.subplots()\n",
        "    ax.bar(ids, levelNumIncorrectGuesses[0], color=levelColors[0])\n",
        "    ax.bar(ids, levelNumIncorrectGuesses[1], bottom = levelNumIncorrectGuesses[0], color=levelColors[1])\n",
        "    ax.bar(ids, levelNumIncorrectGuesses[2], bottom = [sum(x) for x in zip(*levelNumIncorrectGuesses[:2])], color=levelColors[2])\n",
        "    # ax.bar(ids, levelNumIncorrectGuesses[3], bottom = [sum(x) for x in zip(*levelNumIncorrectGuesses[:3])], color=levelColors[3])   # don't need this\n",
        "\n",
        "\n",
        "    plt.show()\n"
      ],
      "metadata": {
        "id": "Ewqut3MOy9fp"
      },
      "execution_count": null,
      "outputs": []
    },
    {
      "cell_type": "code",
      "source": [
        "examplePerformance = Evaluator.evaluateOneGamePerformance(DBSCANPartitionAgent, simplePuzzleData[6])\n",
        "# simplePuzzleData[0]\n",
        "\n",
        "\n",
        "Evaluator.plotPerformance(Evaluator.evaluatePerformance(RandomMemoAgent, compliantSimplePuzzleData[:100]))"
      ],
      "metadata": {
        "colab": {
          "base_uri": "https://localhost:8080/",
          "height": 521
        },
        "id": "Az2BPk2P34c-",
        "outputId": "645739ba-6185-429d-8f6b-7b406a622c64"
      },
      "execution_count": null,
      "outputs": [
        {
          "output_type": "stream",
          "name": "stdout",
          "text": [
            "idsToPerformance = {1: ((422, <Color.PURPLE: 4>), (68, <Color.GREEN: 2>), (5, <Color.YELLOW: 1>), (0, <Color.BLUE: 3>)), 2: ((683, <Color.PURPLE: 4>), (57, <Color.BLUE: 3>), (4, <Color.YELLOW: 1>), (0, <Color.GREEN: 2>)), 3: ((93, <Color.YELLOW: 1>), (24, <Color.PURPLE: 4>), (32, <Color.GREEN: 2>), (0, <Color.BLUE: 3>)), 4: ((124, <Color.GREEN: 2>), (143, <Color.PURPLE: 4>), (35, <Color.YELLOW: 1>), (0, <Color.BLUE: 3>)), 5: ((422, <Color.BLUE: 3>), (29, <Color.GREEN: 2>), (27, <Color.PURPLE: 4>), (0, <Color.YELLOW: 1>)), 7: ((626, <Color.PURPLE: 4>), (144, <Color.YELLOW: 1>), (1, <Color.BLUE: 3>), (0, <Color.GREEN: 2>)), 9: ((570, <Color.YELLOW: 1>), (37, <Color.PURPLE: 4>), (5, <Color.BLUE: 3>), (0, <Color.GREEN: 2>)), 10: ((8, <Color.PURPLE: 4>), (91, <Color.GREEN: 2>), (5, <Color.YELLOW: 1>), (0, <Color.BLUE: 3>)), 11: ((202, <Color.BLUE: 3>), (171, <Color.GREEN: 2>), (3, <Color.YELLOW: 1>), (0, <Color.PURPLE: 4>)), 12: ((256, <Color.YELLOW: 1>), (133, <Color.PURPLE: 4>), (3, <Color.GREEN: 2>), (0, <Color.BLUE: 3>)), 13: ((738, <Color.PURPLE: 4>), (9, <Color.BLUE: 3>), (27, <Color.YELLOW: 1>), (0, <Color.GREEN: 2>)), 14: ((38, <Color.BLUE: 3>), (230, <Color.YELLOW: 1>), (6, <Color.GREEN: 2>), (0, <Color.PURPLE: 4>)), 15: ((697, <Color.BLUE: 3>), (56, <Color.PURPLE: 4>), (5, <Color.GREEN: 2>), (0, <Color.YELLOW: 1>)), 16: ((93, <Color.YELLOW: 1>), (117, <Color.BLUE: 3>), (1, <Color.GREEN: 2>), (0, <Color.PURPLE: 4>)), 17: ((159, <Color.GREEN: 2>), (152, <Color.BLUE: 3>), (21, <Color.YELLOW: 1>), (0, <Color.PURPLE: 4>)), 18: ((447, <Color.BLUE: 3>), (80, <Color.YELLOW: 1>), (34, <Color.PURPLE: 4>), (0, <Color.GREEN: 2>)), 19: ((113, <Color.PURPLE: 4>), (253, <Color.GREEN: 2>), (21, <Color.YELLOW: 1>), (0, <Color.BLUE: 3>)), 20: ((250, <Color.GREEN: 2>), (66, <Color.BLUE: 3>), (6, <Color.YELLOW: 1>), (0, <Color.PURPLE: 4>)), 21: ((671, <Color.GREEN: 2>), (39, <Color.BLUE: 3>), (26, <Color.YELLOW: 1>), (0, <Color.PURPLE: 4>)), 22: ((280, <Color.YELLOW: 1>), (84, <Color.GREEN: 2>), (19, <Color.BLUE: 3>), (0, <Color.PURPLE: 4>)), 25: ((1172, <Color.YELLOW: 1>), (77, <Color.PURPLE: 4>), (10, <Color.BLUE: 3>), (0, <Color.GREEN: 2>)), 26: ((268, <Color.YELLOW: 1>), (133, <Color.PURPLE: 4>), (21, <Color.BLUE: 3>), (0, <Color.GREEN: 2>)), 27: ((282, <Color.YELLOW: 1>), (90, <Color.PURPLE: 4>), (5, <Color.GREEN: 2>), (0, <Color.BLUE: 3>)), 28: ((59, <Color.YELLOW: 1>), (178, <Color.GREEN: 2>), (4, <Color.PURPLE: 4>), (0, <Color.BLUE: 3>)), 29: ((245, <Color.GREEN: 2>), (408, <Color.YELLOW: 1>), (0, <Color.PURPLE: 4>), (0, <Color.BLUE: 3>)), 30: ((380, <Color.GREEN: 2>), (67, <Color.BLUE: 3>), (13, <Color.PURPLE: 4>), (0, <Color.YELLOW: 1>)), 31: ((178, <Color.BLUE: 3>), (191, <Color.PURPLE: 4>), (9, <Color.YELLOW: 1>), (0, <Color.GREEN: 2>)), 32: ((452, <Color.GREEN: 2>), (16, <Color.PURPLE: 4>), (19, <Color.YELLOW: 1>), (0, <Color.BLUE: 3>)), 33: ((100, <Color.YELLOW: 1>), (174, <Color.BLUE: 3>), (14, <Color.GREEN: 2>), (0, <Color.PURPLE: 4>)), 34: ((465, <Color.BLUE: 3>), (21, <Color.GREEN: 2>), (1, <Color.PURPLE: 4>), (0, <Color.YELLOW: 1>)), 35: ((634, <Color.BLUE: 3>), (51, <Color.YELLOW: 1>), (20, <Color.GREEN: 2>), (0, <Color.PURPLE: 4>)), 37: ((166, <Color.BLUE: 3>), (10, <Color.GREEN: 2>), (9, <Color.PURPLE: 4>), (0, <Color.YELLOW: 1>)), 38: ((62, <Color.BLUE: 3>), (141, <Color.PURPLE: 4>), (15, <Color.YELLOW: 1>), (0, <Color.GREEN: 2>)), 39: ((181, <Color.BLUE: 3>), (120, <Color.YELLOW: 1>), (20, <Color.GREEN: 2>), (0, <Color.PURPLE: 4>)), 41: ((1270, <Color.YELLOW: 1>), (81, <Color.BLUE: 3>), (4, <Color.GREEN: 2>), (0, <Color.PURPLE: 4>)), 44: ((925, <Color.PURPLE: 4>), (105, <Color.GREEN: 2>), (10, <Color.YELLOW: 1>), (0, <Color.BLUE: 3>)), 45: ((77, <Color.YELLOW: 1>), (22, <Color.PURPLE: 4>), (53, <Color.GREEN: 2>), (0, <Color.BLUE: 3>)), 46: ((158, <Color.YELLOW: 1>), (103, <Color.PURPLE: 4>), (20, <Color.GREEN: 2>), (0, <Color.BLUE: 3>)), 47: ((300, <Color.YELLOW: 1>), (105, <Color.PURPLE: 4>), (26, <Color.GREEN: 2>), (0, <Color.BLUE: 3>)), 48: ((506, <Color.PURPLE: 4>), (32, <Color.BLUE: 3>), (19, <Color.GREEN: 2>), (0, <Color.YELLOW: 1>)), 49: ((49, <Color.GREEN: 2>), (321, <Color.BLUE: 3>), (9, <Color.YELLOW: 1>), (0, <Color.PURPLE: 4>)), 50: ((132, <Color.BLUE: 3>), (116, <Color.YELLOW: 1>), (14, <Color.PURPLE: 4>), (0, <Color.GREEN: 2>)), 52: ((20, <Color.GREEN: 2>), (91, <Color.BLUE: 3>), (44, <Color.PURPLE: 4>), (0, <Color.YELLOW: 1>)), 53: ((96, <Color.YELLOW: 1>), (142, <Color.GREEN: 2>), (21, <Color.PURPLE: 4>), (0, <Color.BLUE: 3>)), 54: ((63, <Color.PURPLE: 4>), (62, <Color.YELLOW: 1>), (29, <Color.GREEN: 2>), (0, <Color.BLUE: 3>)), 56: ((0, <Color.BLUE: 3>), (159, <Color.YELLOW: 1>), (13, <Color.GREEN: 2>), (0, <Color.PURPLE: 4>)), 57: ((785, <Color.PURPLE: 4>), (21, <Color.YELLOW: 1>), (2, <Color.BLUE: 3>), (0, <Color.GREEN: 2>)), 59: ((903, <Color.YELLOW: 1>), (51, <Color.PURPLE: 4>), (12, <Color.GREEN: 2>), (0, <Color.BLUE: 3>)), 60: ((162, <Color.GREEN: 2>), (27, <Color.YELLOW: 1>), (9, <Color.BLUE: 3>), (0, <Color.PURPLE: 4>)), 61: ((142, <Color.YELLOW: 1>), (66, <Color.PURPLE: 4>), (7, <Color.GREEN: 2>), (0, <Color.BLUE: 3>)), 62: ((319, <Color.YELLOW: 1>), (211, <Color.GREEN: 2>), (14, <Color.BLUE: 3>), (0, <Color.PURPLE: 4>)), 63: ((246, <Color.GREEN: 2>), (182, <Color.YELLOW: 1>), (6, <Color.PURPLE: 4>), (0, <Color.BLUE: 3>)), 64: ((70, <Color.YELLOW: 1>), (58, <Color.BLUE: 3>), (5, <Color.PURPLE: 4>), (0, <Color.GREEN: 2>)), 65: ((235, <Color.GREEN: 2>), (62, <Color.BLUE: 3>), (9, <Color.PURPLE: 4>), (0, <Color.YELLOW: 1>)), 66: ((217, <Color.YELLOW: 1>), (176, <Color.GREEN: 2>), (1, <Color.PURPLE: 4>), (0, <Color.BLUE: 3>)), 67: ((50, <Color.YELLOW: 1>), (62, <Color.BLUE: 3>), (10, <Color.GREEN: 2>), (0, <Color.PURPLE: 4>)), 68: ((550, <Color.BLUE: 3>), (23, <Color.PURPLE: 4>), (3, <Color.YELLOW: 1>), (0, <Color.GREEN: 2>)), 71: ((482, <Color.PURPLE: 4>), (79, <Color.GREEN: 2>), (27, <Color.YELLOW: 1>), (0, <Color.BLUE: 3>)), 72: ((170, <Color.YELLOW: 1>), (259, <Color.GREEN: 2>), (17, <Color.BLUE: 3>), (0, <Color.PURPLE: 4>)), 73: ((81, <Color.YELLOW: 1>), (318, <Color.PURPLE: 4>), (7, <Color.BLUE: 3>), (0, <Color.GREEN: 2>)), 74: ((29, <Color.BLUE: 3>), (267, <Color.GREEN: 2>), (2, <Color.PURPLE: 4>), (0, <Color.YELLOW: 1>)), 75: ((741, <Color.GREEN: 2>), (141, <Color.PURPLE: 4>), (8, <Color.BLUE: 3>), (0, <Color.YELLOW: 1>)), 76: ((242, <Color.BLUE: 3>), (27, <Color.PURPLE: 4>), (19, <Color.GREEN: 2>), (0, <Color.YELLOW: 1>)), 77: ((141, <Color.GREEN: 2>), (120, <Color.YELLOW: 1>), (5, <Color.PURPLE: 4>), (0, <Color.BLUE: 3>)), 79: ((226, <Color.YELLOW: 1>), (151, <Color.PURPLE: 4>), (16, <Color.BLUE: 3>), (0, <Color.GREEN: 2>)), 80: ((115, <Color.PURPLE: 4>), (48, <Color.YELLOW: 1>), (12, <Color.GREEN: 2>), (0, <Color.BLUE: 3>)), 81: ((346, <Color.BLUE: 3>), (5, <Color.YELLOW: 1>), (22, <Color.GREEN: 2>), (0, <Color.PURPLE: 4>)), 82: ((84, <Color.YELLOW: 1>), (12, <Color.GREEN: 2>), (27, <Color.PURPLE: 4>), (0, <Color.BLUE: 3>)), 83: ((128, <Color.YELLOW: 1>), (32, <Color.PURPLE: 4>), (40, <Color.GREEN: 2>), (0, <Color.BLUE: 3>)), 84: ((44, <Color.PURPLE: 4>), (160, <Color.YELLOW: 1>), (25, <Color.GREEN: 2>), (0, <Color.BLUE: 3>)), 85: ((184, <Color.YELLOW: 1>), (71, <Color.BLUE: 3>), (41, <Color.GREEN: 2>), (0, <Color.PURPLE: 4>)), 87: ((54, <Color.YELLOW: 1>), (44, <Color.GREEN: 2>), (26, <Color.PURPLE: 4>), (0, <Color.BLUE: 3>)), 88: ((90, <Color.BLUE: 3>), (50, <Color.GREEN: 2>), (4, <Color.YELLOW: 1>), (0, <Color.PURPLE: 4>)), 89: ((149, <Color.YELLOW: 1>), (35, <Color.GREEN: 2>), (1, <Color.BLUE: 3>), (0, <Color.PURPLE: 4>)), 90: ((437, <Color.BLUE: 3>), (60, <Color.YELLOW: 1>), (0, <Color.GREEN: 2>), (0, <Color.PURPLE: 4>)), 91: ((25, <Color.GREEN: 2>), (16, <Color.BLUE: 3>), (4, <Color.PURPLE: 4>), (0, <Color.YELLOW: 1>)), 92: ((127, <Color.BLUE: 3>), (171, <Color.YELLOW: 1>), (18, <Color.GREEN: 2>), (0, <Color.PURPLE: 4>)), 93: ((457, <Color.YELLOW: 1>), (78, <Color.GREEN: 2>), (26, <Color.PURPLE: 4>), (0, <Color.BLUE: 3>)), 95: ((268, <Color.BLUE: 3>), (175, <Color.YELLOW: 1>), (1, <Color.PURPLE: 4>), (0, <Color.GREEN: 2>)), 96: ((497, <Color.GREEN: 2>), (58, <Color.BLUE: 3>), (10, <Color.PURPLE: 4>), (0, <Color.YELLOW: 1>)), 98: ((295, <Color.PURPLE: 4>), (184, <Color.YELLOW: 1>), (4, <Color.GREEN: 2>), (0, <Color.BLUE: 3>)), 99: ((484, <Color.BLUE: 3>), (195, <Color.PURPLE: 4>), (8, <Color.GREEN: 2>), (0, <Color.YELLOW: 1>)), 100: ((396, <Color.GREEN: 2>), (242, <Color.PURPLE: 4>), (16, <Color.YELLOW: 1>), (0, <Color.BLUE: 3>)), 101: ((293, <Color.BLUE: 3>), (140, <Color.PURPLE: 4>), (25, <Color.YELLOW: 1>), (0, <Color.GREEN: 2>)), 102: ((898, <Color.YELLOW: 1>), (180, <Color.PURPLE: 4>), (3, <Color.GREEN: 2>), (0, <Color.BLUE: 3>)), 103: ((457, <Color.PURPLE: 4>), (147, <Color.BLUE: 3>), (7, <Color.GREEN: 2>), (0, <Color.YELLOW: 1>)), 104: ((585, <Color.BLUE: 3>), (130, <Color.GREEN: 2>), (7, <Color.PURPLE: 4>), (0, <Color.YELLOW: 1>)), 105: ((762, <Color.BLUE: 3>), (13, <Color.PURPLE: 4>), (1, <Color.YELLOW: 1>), (0, <Color.GREEN: 2>)), 106: ((14, <Color.BLUE: 3>), (128, <Color.GREEN: 2>), (3, <Color.YELLOW: 1>), (0, <Color.PURPLE: 4>)), 107: ((1050, <Color.PURPLE: 4>), (115, <Color.BLUE: 3>), (0, <Color.GREEN: 2>), (0, <Color.YELLOW: 1>)), 108: ((623, <Color.GREEN: 2>), (132, <Color.PURPLE: 4>), (8, <Color.BLUE: 3>), (0, <Color.YELLOW: 1>)), 109: ((4, <Color.YELLOW: 1>), (186, <Color.BLUE: 3>), (27, <Color.PURPLE: 4>), (0, <Color.GREEN: 2>)), 110: ((637, <Color.PURPLE: 4>), (146, <Color.YELLOW: 1>), (7, <Color.BLUE: 3>), (0, <Color.GREEN: 2>)), 111: ((249, <Color.GREEN: 2>), (261, <Color.PURPLE: 4>), (11, <Color.BLUE: 3>), (0, <Color.YELLOW: 1>)), 112: ((114, <Color.PURPLE: 4>), (32, <Color.GREEN: 2>), (27, <Color.BLUE: 3>), (0, <Color.YELLOW: 1>)), 113: ((110, <Color.GREEN: 2>), (265, <Color.PURPLE: 4>), (14, <Color.BLUE: 3>), (0, <Color.YELLOW: 1>)), 114: ((461, <Color.YELLOW: 1>), (164, <Color.GREEN: 2>), (11, <Color.PURPLE: 4>), (0, <Color.BLUE: 3>)), 116: ((827, <Color.YELLOW: 1>), (27, <Color.GREEN: 2>), (11, <Color.PURPLE: 4>), (0, <Color.BLUE: 3>)), 118: ((63, <Color.YELLOW: 1>), (84, <Color.GREEN: 2>), (42, <Color.PURPLE: 4>), (0, <Color.BLUE: 3>)), 119: ((319, <Color.GREEN: 2>), (151, <Color.BLUE: 3>), (10, <Color.PURPLE: 4>), (0, <Color.YELLOW: 1>))}\n",
            "ids = ['1', '2', '3', '4', '5', '7', '9', '10', '11', '12', '13', '14', '15', '16', '17', '18', '19', '20', '21', '22', '25', '26', '27', '28', '29', '30', '31', '32', '33', '34', '35', '37', '38', '39', '41', '44', '45', '46', '47', '48', '49', '50', '52', '53', '54', '56', '57', '59', '60', '61', '62', '63', '64', '65', '66', '67', '68', '71', '72', '73', '74', '75', '76', '77', '79', '80', '81', '82', '83', '84', '85', '87', '88', '89', '90', '91', '92', '93', '95', '96', '98', '99', '100', '101', '102', '103', '104', '105', '106', '107', '108', '109', '110', '111', '112', '113', '114', '116', '118', '119']\n",
            "levelNumIncorrectGuesses = ([422, 683, 93, 124, 422, 626, 570, 8, 202, 256, 738, 38, 697, 93, 159, 447, 113, 250, 671, 280, 1172, 268, 282, 59, 245, 380, 178, 452, 100, 465, 634, 166, 62, 181, 1270, 925, 77, 158, 300, 506, 49, 132, 20, 96, 63, 0, 785, 903, 162, 142, 319, 246, 70, 235, 217, 50, 550, 482, 170, 81, 29, 741, 242, 141, 226, 115, 346, 84, 128, 44, 184, 54, 90, 149, 437, 25, 127, 457, 268, 497, 295, 484, 396, 293, 898, 457, 585, 762, 14, 1050, 623, 4, 637, 249, 114, 110, 461, 827, 63, 319], [68, 57, 24, 143, 29, 144, 37, 91, 171, 133, 9, 230, 56, 117, 152, 80, 253, 66, 39, 84, 77, 133, 90, 178, 408, 67, 191, 16, 174, 21, 51, 10, 141, 120, 81, 105, 22, 103, 105, 32, 321, 116, 91, 142, 62, 159, 21, 51, 27, 66, 211, 182, 58, 62, 176, 62, 23, 79, 259, 318, 267, 141, 27, 120, 151, 48, 5, 12, 32, 160, 71, 44, 50, 35, 60, 16, 171, 78, 175, 58, 184, 195, 242, 140, 180, 147, 130, 13, 128, 115, 132, 186, 146, 261, 32, 265, 164, 27, 84, 151], [5, 4, 32, 35, 27, 1, 5, 5, 3, 3, 27, 6, 5, 1, 21, 34, 21, 6, 26, 19, 10, 21, 5, 4, 0, 13, 9, 19, 14, 1, 20, 9, 15, 20, 4, 10, 53, 20, 26, 19, 9, 14, 44, 21, 29, 13, 2, 12, 9, 7, 14, 6, 5, 9, 1, 10, 3, 27, 17, 7, 2, 8, 19, 5, 16, 12, 22, 27, 40, 25, 41, 26, 4, 1, 0, 4, 18, 26, 1, 10, 4, 8, 16, 25, 3, 7, 7, 1, 3, 0, 8, 27, 7, 11, 27, 14, 11, 11, 42, 10], [0, 0, 0, 0, 0, 0, 0, 0, 0, 0, 0, 0, 0, 0, 0, 0, 0, 0, 0, 0, 0, 0, 0, 0, 0, 0, 0, 0, 0, 0, 0, 0, 0, 0, 0, 0, 0, 0, 0, 0, 0, 0, 0, 0, 0, 0, 0, 0, 0, 0, 0, 0, 0, 0, 0, 0, 0, 0, 0, 0, 0, 0, 0, 0, 0, 0, 0, 0, 0, 0, 0, 0, 0, 0, 0, 0, 0, 0, 0, 0, 0, 0, 0, 0, 0, 0, 0, 0, 0, 0, 0, 0, 0, 0, 0, 0, 0, 0, 0, 0])\n",
            "levelColors = (['red', 'red', 'red', 'red', 'red', 'red', 'red', 'red', 'red', 'red', 'red', 'red', 'red', 'red', 'red', 'red', 'red', 'red', 'red', 'red', 'red', 'red', 'red', 'red', 'red', 'red', 'red', 'red', 'red', 'red', 'red', 'red', 'red', 'red', 'red', 'red', 'red', 'red', 'red', 'red', 'red', 'red', 'red', 'red', 'red', 'red', 'red', 'red', 'red', 'red', 'red', 'red', 'red', 'red', 'red', 'red', 'red', 'red', 'red', 'red', 'red', 'red', 'red', 'red', 'red', 'red', 'red', 'red', 'red', 'red', 'red', 'red', 'red', 'red', 'red', 'red', 'red', 'red', 'red', 'red', 'red', 'red', 'red', 'red', 'red', 'red', 'red', 'red', 'red', 'red', 'red', 'red', 'red', 'red', 'red', 'red', 'red', 'red', 'red', 'red'], ['blue', 'blue', 'blue', 'blue', 'blue', 'blue', 'blue', 'blue', 'blue', 'blue', 'blue', 'blue', 'blue', 'blue', 'blue', 'blue', 'blue', 'blue', 'blue', 'blue', 'blue', 'blue', 'blue', 'blue', 'blue', 'blue', 'blue', 'blue', 'blue', 'blue', 'blue', 'blue', 'blue', 'blue', 'blue', 'blue', 'blue', 'blue', 'blue', 'blue', 'blue', 'blue', 'blue', 'blue', 'blue', 'blue', 'blue', 'blue', 'blue', 'blue', 'blue', 'blue', 'blue', 'blue', 'blue', 'blue', 'blue', 'blue', 'blue', 'blue', 'blue', 'blue', 'blue', 'blue', 'blue', 'blue', 'blue', 'blue', 'blue', 'blue', 'blue', 'blue', 'blue', 'blue', 'blue', 'blue', 'blue', 'blue', 'blue', 'blue', 'blue', 'blue', 'blue', 'blue', 'blue', 'blue', 'blue', 'blue', 'blue', 'blue', 'blue', 'blue', 'blue', 'blue', 'blue', 'blue', 'blue', 'blue', 'blue', 'blue'], ['pink', 'pink', 'pink', 'pink', 'pink', 'pink', 'pink', 'pink', 'pink', 'pink', 'pink', 'pink', 'pink', 'pink', 'pink', 'pink', 'pink', 'pink', 'pink', 'pink', 'pink', 'pink', 'pink', 'pink', 'pink', 'pink', 'pink', 'pink', 'pink', 'pink', 'pink', 'pink', 'pink', 'pink', 'pink', 'pink', 'pink', 'pink', 'pink', 'pink', 'pink', 'pink', 'pink', 'pink', 'pink', 'pink', 'pink', 'pink', 'pink', 'pink', 'pink', 'pink', 'pink', 'pink', 'pink', 'pink', 'pink', 'pink', 'pink', 'pink', 'pink', 'pink', 'pink', 'pink', 'pink', 'pink', 'pink', 'pink', 'pink', 'pink', 'pink', 'pink', 'pink', 'pink', 'pink', 'pink', 'pink', 'pink', 'pink', 'pink', 'pink', 'pink', 'pink', 'pink', 'pink', 'pink', 'pink', 'pink', 'pink', 'pink', 'pink', 'pink', 'pink', 'pink', 'pink', 'pink', 'pink', 'pink', 'pink', 'pink'], ['black', 'black', 'black', 'black', 'black', 'black', 'black', 'black', 'black', 'black', 'black', 'black', 'black', 'black', 'black', 'black', 'black', 'black', 'black', 'black', 'black', 'black', 'black', 'black', 'black', 'black', 'black', 'black', 'black', 'black', 'black', 'black', 'black', 'black', 'black', 'black', 'black', 'black', 'black', 'black', 'black', 'black', 'black', 'black', 'black', 'black', 'black', 'black', 'black', 'black', 'black', 'black', 'black', 'black', 'black', 'black', 'black', 'black', 'black', 'black', 'black', 'black', 'black', 'black', 'black', 'black', 'black', 'black', 'black', 'black', 'black', 'black', 'black', 'black', 'black', 'black', 'black', 'black', 'black', 'black', 'black', 'black', 'black', 'black', 'black', 'black', 'black', 'black', 'black', 'black', 'black', 'black', 'black', 'black', 'black', 'black', 'black', 'black', 'black', 'black'])\n"
          ]
        },
        {
          "output_type": "display_data",
          "data": {
            "text/plain": [
              "<Figure size 640x480 with 1 Axes>"
            ],
            "image/png": "[encoded data removed]"
          },
          "metadata": {}
        }
      ]
    },
    {
      "cell_type": "code",
      "source": [
        "color = examplePerformance[0][1]\n",
        "print([c for c in Color])\n",
        "print([Color[color.name]])\n",
        "print(color in [c for c in Color])"
      ],
      "metadata": {
        "colab": {
          "base_uri": "https://localhost:8080/"
        },
        "id": "n6bUhH_-NCcj",
        "outputId": "30fc1724-0674-47a0-c3e8-6bd8fd996d6e"
      },
      "execution_count": null,
      "outputs": [
        {
          "output_type": "stream",
          "name": "stdout",
          "text": [
            "[<Color.YELLOW: 1>, <Color.GREEN: 2>, <Color.BLUE: 3>, <Color.PURPLE: 4>]\n",
            "[<Color.YELLOW: 1>]\n",
            "False\n"
          ]
        }
      ]
    },
    {
      "cell_type": "code",
      "source": [
        "colorDict: Dict[Color, str] = {Color.YELLOW: \"yellow\", Color.GREEN: \"green\", Color.BLUE: \"blue\", Color.PURPLE: \"purple\"}\n",
        "\n",
        "print(colorDict[color])"
      ],
      "metadata": {
        "colab": {
          "base_uri": "https://localhost:8080/",
          "height": 180
        },
        "id": "fo1bosmANCVi",
        "outputId": "c542cb52-9c69-496a-a040-f58b11b382e6"
      },
      "execution_count": null,
      "outputs": [
        {
          "output_type": "error",
          "ename": "KeyError",
          "evalue": "<Color.YELLOW: 1>",
          "traceback": [
            "\u001b[0;31m---------------------------------------------------------------------------\u001b[0m",
            "\u001b[0;31mKeyError\u001b[0m                                  Traceback (most recent call last)",
            "\u001b[0;32m<ipython-input-411-f23d8d84ca9a>\u001b[0m in \u001b[0;36m<cell line: 3>\u001b[0;34m()\u001b[0m\n\u001b[1;32m      1\u001b[0m \u001b[0mcolorDict\u001b[0m\u001b[0;34m:\u001b[0m \u001b[0mDict\u001b[0m\u001b[0;34m[\u001b[0m\u001b[0mColor\u001b[0m\u001b[0;34m,\u001b[0m \u001b[0mstr\u001b[0m\u001b[0;34m]\u001b[0m \u001b[0;34m=\u001b[0m \u001b[0;34m{\u001b[0m\u001b[0mColor\u001b[0m\u001b[0;34m.\u001b[0m\u001b[0mYELLOW\u001b[0m\u001b[0;34m:\u001b[0m \u001b[0;34m\"yellow\"\u001b[0m\u001b[0;34m,\u001b[0m \u001b[0mColor\u001b[0m\u001b[0;34m.\u001b[0m\u001b[0mGREEN\u001b[0m\u001b[0;34m:\u001b[0m \u001b[0;34m\"green\"\u001b[0m\u001b[0;34m,\u001b[0m \u001b[0mColor\u001b[0m\u001b[0;34m.\u001b[0m\u001b[0mBLUE\u001b[0m\u001b[0;34m:\u001b[0m \u001b[0;34m\"blue\"\u001b[0m\u001b[0;34m,\u001b[0m \u001b[0mColor\u001b[0m\u001b[0;34m.\u001b[0m\u001b[0mPURPLE\u001b[0m\u001b[0;34m:\u001b[0m \u001b[0;34m\"purple\"\u001b[0m\u001b[0;34m}\u001b[0m\u001b[0;34m\u001b[0m\u001b[0;34m\u001b[0m\u001b[0m\n\u001b[1;32m      2\u001b[0m \u001b[0;34m\u001b[0m\u001b[0m\n\u001b[0;32m----> 3\u001b[0;31m \u001b[0mprint\u001b[0m\u001b[0;34m(\u001b[0m\u001b[0mcolorDict\u001b[0m\u001b[0;34m[\u001b[0m\u001b[0mcolor\u001b[0m\u001b[0;34m]\u001b[0m\u001b[0;34m)\u001b[0m\u001b[0;34m\u001b[0m\u001b[0;34m\u001b[0m\u001b[0m\n\u001b[0m",
            "\u001b[0;31mKeyError\u001b[0m: <Color.YELLOW: 1>"
          ]
        }
      ]
    },
    {
      "cell_type": "markdown",
      "source": [
        "# Test Code / Code Dump"
      ],
      "metadata": {
        "id": "lQGmeWOqQG_3"
      }
    },
    {
      "cell_type": "code",
      "source": [
        "# Non-deterministic\n",
        "randomAgentPerformance          = evaluatePerformance(RandomAgent, cleanedData, T = 1)\n",
        "randomMemoAgentPerformance      = evaluatePerformance(RandomMemoAgent, cleanedData, T = 1)\n",
        "\n",
        "# Deterministic\n",
        "smartRandomAgentPerformance     = evaluatePerformance(SmartRandomAgent, cleanedData, T = 1)\n",
        "DBSCANPartitionAgentPerformance = evaluatePerformance(DBSCANPartitionAgent, cleanedData, T = 1)"
      ],
      "metadata": {
        "id": "uVlgPh754Taf"
      },
      "execution_count": null,
      "outputs": []
    },
    {
      "cell_type": "code",
      "source": [
        "word2VecModel.similarity(\"hot\", \"blue\")\n",
        "print(word2VecModel.most_similar(positive=\"hot\"))\n",
        "# Does not handle opposites well, but that should be ok"
      ],
      "metadata": {
        "id": "aASkomOiDpgz"
      },
      "execution_count": null,
      "outputs": []
    },
    {
      "cell_type": "code",
      "source": [
        "# Increment parameter eps until we have a group of at least 4: then, try all the combos here\n",
        "DBSCANpartition(InteractivePuzzle(cleanedData[0]).getRemainingUnsolvedPuzzle(), eps = 2.5, min_samples = 4)"
      ],
      "metadata": {
        "id": "CDPPtNuLQJDn"
      },
      "execution_count": null,
      "outputs": []
    },
    {
      "cell_type": "code",
      "source": [
        "# Produce a clustering\n",
        "def clusterUnsolvedPuzzle(unsolvedPuzzle: UnsolvedPuzzle, numCategories: int):\n",
        "  # Transform into an array of the word vector\n",
        "  wordVectors = np.array([word2VecModel[word] for word in unsolvedPuzzle])\n",
        "\n",
        "\n",
        "  # Perform K-means clustering\n",
        "  kmeans = KMeans(n_clusters=numCategories, random_state=0, n_init=\"auto\")\n",
        "  clusterDistances = kmeans.fit_transform(wordVectors)\n",
        "\n",
        "  # Get the cluster labels (indices ranging from 0 to num_clusters - 1)\n",
        "  clusterLabels: List[int] = kmeans.labels_\n",
        "\n",
        "  # Gather the clustered words\n",
        "  wordClusters = {clusterLabel : set() for clusterLabel in set(clusterLabels)}\n",
        "\n",
        "  for (i, word) in enumerate(unsolvedPuzzle):\n",
        "    # print(f\"(i, word) = {i, word}\")\n",
        "    wordClusters[clusterLabels[i]].add(word)\n",
        "\n",
        "  print(clusterDistances)\n",
        "\n",
        "  return wordClusters"
      ],
      "metadata": {
        "id": "vEFoywHb4_rt"
      },
      "execution_count": null,
      "outputs": []
    },
    {
      "cell_type": "code",
      "source": [
        "print(f\"RandomAgent over 100 games: mean = {np.mean(randomAgentPerformance)}, stdev = {np.std(randomAgentPerformance)}\")\n",
        "print(f\"RandomMemoAgent over 100 games: mean = {np.mean(randomMemoAgentPerformance)}, stdev = {np.std(randomMemoAgentPerformance)}\")\n",
        "print(f\"SmartAgnosticAgent over 100 games: mean = {np.mean(smartRandomAgentPerformance)}, stdev = {np.std(smartRandomAgentPerformance)}\")\n",
        "print(f\"DBSCANPartitionAgent over 100 games: mean = {np.mean(DBSCANPartitionAgentPerformance)}, stdev = {np.std(DBSCANPartitionAgentPerformance)}\")"
      ],
      "metadata": {
        "id": "uRlNsyS-M3B1"
      },
      "execution_count": null,
      "outputs": []
    },
    {
      "cell_type": "code",
      "source": [],
      "metadata": {
        "id": "aUHmXpb8Q6qd"
      },
      "execution_count": null,
      "outputs": []
    },
    {
      "cell_type": "code",
      "source": [
        "# Evaluate the average number of incorrect guesses needed on the given testing set using the given agent\n",
        "# Prints a list of T items, representing T trials\n",
        "#   Each entry is the mean number of incorrect guesses over the test data\n",
        "def evaluatePerformance(puzzleAgentConstructor, testSet: List[SimplePuzzle], T = 1) -> None:\n",
        "  numIncorrectGuesses = [[ ] for _ in range(0, T)]\n",
        "  meanIncorrectGuesses = [0 for _ in range(0, T)]\n",
        "\n",
        "  for t in range(0, T):\n",
        "    for simplePuzzle in testSet:\n",
        "      interactivePuzzle = InteractivePuzzle(simplePuzzle)\n",
        "      puzzleAgent = puzzleAgentConstructor(interactivePuzzle)\n",
        "\n",
        "      while not interactivePuzzle.isOver():\n",
        "        guess = puzzleAgent.getNextMove()\n",
        "        puzzleAgent.incorporateFeedback(guess, interactivePuzzle.submitGuess(guess))\n",
        "\n",
        "      # print(f\"Number of guesses: {interactivePuzzle.numIncorrectGuesses}\")\n",
        "      numIncorrectGuesses[t].append(interactivePuzzle.numIncorrectGuesses)\n",
        "      meanIncorrectGuesses[t] += interactivePuzzle.numIncorrectGuesses / len(testSet)\n",
        "\n",
        "  print(f\"{str(puzzleAgentConstructor)} meanIncorrectGuesses performance = {meanIncorrectGuesses}\")\n",
        "  return numIncorrectGuesses[0]"
      ],
      "metadata": {
        "id": "ZnVT4H-1Nf5d"
      },
      "execution_count": null,
      "outputs": []
    },
    {
      "cell_type": "code",
      "source": [
        "# Plot bars\n",
        "# What I want:\n",
        "\n",
        "# Also, I want average guesses per level (averaged over entire level)\n",
        "# Ok to do just 1 trial if nondeterministic: averaged over entire data set\n",
        "\n",
        "\n",
        "import matplotlib.pyplot as plt\n",
        "\n",
        "y1 = [3, 12, 5, 18, 45]\n",
        "y2 = [7, 8, 15, 0, 20]\n",
        "x = ('A', 'B', 'C', 'D', 'E')\n",
        "\n",
        "df = pd.DataFrame({'y1': y1, 'x': x})\n",
        "\n",
        "\n",
        "color1 = ['lightblue', 'blue', 'purple', 'red', 'black']\n",
        "color2 = ['green', 'red', 'green', 'green', 'green']\n",
        "\n",
        "# Create bars\n",
        "fig, ax = plt.subplots()\n",
        "ax.bar(df['x'], df['y1'], color=color1)\n",
        "plt.bar(x, y2, bottom=y1, color=color2)\n",
        "\n",
        "# Show graph\n",
        "plt.show()"
      ],
      "metadata": {
        "colab": {
          "base_uri": "https://localhost:8080/",
          "height": 430
        },
        "id": "G9o3nV8wHSEm",
        "outputId": "85821751-5272-4f11-d493-04d9930ff7ba"
      },
      "execution_count": null,
      "outputs": [
        {
          "output_type": "display_data",
          "data": {
            "text/plain": [
              "<Figure size 640x480 with 1 Axes>"
            ],
            "image/png": "[encoded data removed]"
          },
          "metadata": {}
        }
      ]
    },
    {
      "cell_type": "code",
      "source": [],
      "metadata": {
        "id": "D__WPmwVHR7Q"
      },
      "execution_count": null,
      "outputs": []
    }
  ],
  "metadata": {
    "colab": {
      "provenance": [],
      "collapsed_sections": [
        "ry2h2EPDqQ6l"
      ]
    },
    "kernelspec": {
      "display_name": "Python 3",
      "name": "python3"
    },
    "language_info": {
      "name": "python"
    }
  },
  "nbformat": 4,
  "nbformat_minor": 0
}

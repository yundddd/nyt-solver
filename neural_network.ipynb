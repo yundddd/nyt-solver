{
  "nbformat": 4,
  "nbformat_minor": 0,
  "metadata": {
    "colab": {
      "provenance": [],
      "gpuType": "T4"
    },
    "kernelspec": {
      "name": "python3",
      "display_name": "Python 3"
    },
    "language_info": {
      "name": "python"
    },
    "accelerator": "GPU"
  },
  "cells": [
    {
      "cell_type": "code",
      "execution_count": 1,
      "metadata": {
        "colab": {
          "base_uri": "https://localhost:8080/"
        },
        "id": "9GAEe7p2HF_I",
        "outputId": "82b3de7a-0248-42e3-e0c0-555b567734b6"
      },
      "outputs": [
        {
          "output_type": "stream",
          "name": "stdout",
          "text": [
            "[==================================================] 100.0% 104.8/104.8MB downloaded\n"
          ]
        }
      ],
      "source": [
        "import gensim.downloader as api\n",
        "\n",
        "word2VecModel = api.load(\"glove-twitter-25\")"
      ]
    },
    {
      "cell_type": "code",
      "source": [
        "import os\n",
        "filePath = \"simplePuzzles.json\"\n",
        "\n",
        "# If the json file is already fetched from our GCS, do not re-fetch.\n",
        "if not os.path.exists(filePath):\n",
        "  # You can upload the file to https://console.cloud.google.com/storage/browser/cs221team\n",
        "  # Accessible @ https://storage.googleapis.com/cs221team/simplePuzzles.json\n",
        "  !gsutil cp gs://cs221team/simplePuzzles.json simplePuzzles.json\n"
      ],
      "metadata": {
        "colab": {
          "base_uri": "https://localhost:8080/"
        },
        "id": "_rzHUBjWHRqr",
        "outputId": "2445fd58-b933-4a20-9a1b-6780819e7e94"
      },
      "execution_count": 2,
      "outputs": [
        {
          "output_type": "stream",
          "name": "stdout",
          "text": [
            "Copying gs://cs221team/simplePuzzles.json...\n",
            "/ [0 files][    0.0 B/ 88.9 KiB]                                                \r/ [1 files][ 88.9 KiB/ 88.9 KiB]                                                \r\n",
            "Operation completed over 1 objects/88.9 KiB.                                     \n"
          ]
        }
      ]
    },
    {
      "cell_type": "code",
      "source": [
        "import json\n",
        "import numpy as np\n",
        "from sklearn.model_selection import train_test_split\n",
        "\n",
        "def word_to_vec(word, model):\n",
        "  \"\"\"\n",
        "  for a given word and word2vec model, return a vector representation. If the word is not found\n",
        "  in the model, return an empty ndarray of dimension (model.vector_size,)\n",
        "  \"\"\"\n",
        "  return np.array(model[word.lower()]) if word.lower() in model else None\n",
        "\n",
        "def average_multi_word_to_vec(str, model):\n",
        "  vecs = [np.array(model[c]) for c in str.lower().split() if c in model]\n",
        "  return np.array(np.mean(vecs, axis=0)) if len(vecs) != 0 else None\n",
        "\n",
        "def load_samples(filePath, model):\n",
        "  \"\"\"\n",
        "  load from the json game data and output train/test split. Each input is mapped to\n",
        "  a category. An input and category could contain multiple words and this function\n",
        "  averages the vector embedded values. The training set is an ndarray of size (num_samples, word2VecModel.vector_size)\n",
        "  The label set is an ndarray of the same dimension. For example:\n",
        "  x_train: [v1, v2, v3, v4, v5, v6, v7, v8]\n",
        "  y_train: [c1, c1, c1, c1, c2, c2, c2, c2]\n",
        "  where vn are different word vectors and cn are different category vectors. Since the game\n",
        "  always have four words mapped to the same category, we will see duplicate categories in y_train.\n",
        "  Note: if a word is not found in the word2vec model, it is ignored. If a category is not found in the\n",
        "  model, all associated words for it is ignored.\n",
        "\n",
        "  filePath: the path to game data in json format\n",
        "  model: a word2vec model\n",
        "  \"\"\"\n",
        "\n",
        "  with open(filePath) as f:\n",
        "    data = json.load(f)\n",
        "    samples = []\n",
        "    sample_labels = []\n",
        "\n",
        "    print(f\"processing {len(data)} entries of game data\")\n",
        "    for i in range(len(data)):\n",
        "      # Sample: {'id': 1, 'wordCategories': {'WET WEATHER': ['HAIL', 'RAIN', 'SLEET', 'SNOW'], 'NBA TEAMS': ['BUCKS', 'HEAT', 'JAZZ', 'NETS'], 'KEYBOARD KEYS': ['OPTION', 'RETURN', 'SHIFT', 'TAB'], 'PALINDROMES': ['KAYAK', 'LEVEL', 'MOM', 'RACECAR']}}\n",
        "\n",
        "      for category, input in data[i]['wordCategories'].items():\n",
        "        # if each category has multiple words, average the vector together. If all of the words\n",
        "        # are not in word2vec, skip this sample.\n",
        "        label = average_multi_word_to_vec(category, model)\n",
        "        if label is None:\n",
        "          continue\n",
        "\n",
        "        for words in input:\n",
        "          # it's possible the input can have multiple words. average them.\n",
        "          average_input_vector = average_multi_word_to_vec(words, model)\n",
        "          if average_input_vector is None:\n",
        "            continue\n",
        "\n",
        "          samples.append(average_input_vector)\n",
        "          sample_labels.append(label)\n",
        "\n",
        "\n",
        "    assert len(samples) == len(sample_labels)\n",
        "    assert samples[0].shape == sample_labels[0].shape\n",
        "\n",
        "  x_train, x_test, y_train, y_test = train_test_split(\n",
        "    np.array(samples), np.array(sample_labels), test_size=0.05, random_state=0)\n",
        "  print(f\"num of train samples {len(x_train)}, num of test samples {len(x_test)}\")\n",
        "  print(f\"x_train shape {x_train.shape} y_train shape {y_train.shape}\")\n",
        "  return x_train, y_train, x_test, y_test"
      ],
      "metadata": {
        "id": "G-texjXCH0Jp"
      },
      "execution_count": 10,
      "outputs": []
    },
    {
      "cell_type": "code",
      "source": [
        "import torch\n",
        "import torch.nn as nn\n",
        "class NeuralNetwork(nn.Module):\n",
        "    def __init__(self):\n",
        "        super(NeuralNetwork, self).__init__()\n",
        "        self.fc1 = nn.Linear(25, 100)\n",
        "        self.fc2 = nn.Linear(100, 75)\n",
        "        self.fc3 = nn.Linear(75, 25)\n",
        "\n",
        "    def forward(self, x):\n",
        "        x = torch.relu(self.fc1(x))\n",
        "        x = torch.relu(self.fc2(x))\n",
        "        x = self.fc3(x)\n",
        "        return x"
      ],
      "metadata": {
        "id": "FizR038CbK5c"
      },
      "execution_count": 4,
      "outputs": []
    },
    {
      "cell_type": "code",
      "source": [
        "import torch.optim as optim\n",
        "from tqdm import tqdm\n",
        "import copy\n",
        "\n",
        "def train_network(model, X_train, Y_train, X_test, Y_test):\n",
        "  loss_fn = nn.MSELoss()  # mean square error\n",
        "  optimizer = optim.SGD(model.parameters(), lr=0.01)\n",
        "\n",
        "  n_epochs = 100   # number of epochs to run\n",
        "  batch_size = 100  # size of each batch\n",
        "  batch_start = torch.arange(0, len(X_train), batch_size)\n",
        "\n",
        "  # Hold the best model\n",
        "  best_mse = np.inf   # init to infinity\n",
        "  best_weights = None\n",
        "  history = []\n",
        "  model.float()\n",
        "  for epoch in range(n_epochs):\n",
        "      model.train()\n",
        "      with tqdm(batch_start, unit=\"batch\", mininterval=0, position=0, leave=True) as bar:\n",
        "          bar.set_description(f\"Epoch {epoch}\")\n",
        "          for start in bar:\n",
        "              X_batch = X_train[start:start+batch_size]\n",
        "              Y_batch = Y_train[start:start+batch_size]\n",
        "\n",
        "              Y_pred = model(X_batch)\n",
        "              loss = loss_fn(Y_pred, Y_batch)\n",
        "              optimizer.zero_grad()\n",
        "              loss.backward()\n",
        "              optimizer.step()\n",
        "              # print progress\n",
        "              bar.set_postfix(mse=float(loss))\n",
        "\n",
        "      # evaluate accuracy at end of each epoch\n",
        "      model.eval()\n",
        "      Y_pred = model(X_test)\n",
        "      mse = loss_fn(Y_pred, Y_test)\n",
        "      mse = float(mse)\n",
        "      history.append(mse)\n",
        "      if mse < best_mse:\n",
        "          best_mse = mse\n",
        "          best_weights = copy.deepcopy(model.state_dict())\n",
        "\n",
        "  return history, best_mse, best_weights"
      ],
      "metadata": {
        "id": "GRf-3QFqeh52"
      },
      "execution_count": 34,
      "outputs": []
    },
    {
      "cell_type": "code",
      "source": [
        "X_train, Y_train, X_test, Y_test = load_samples(filePath, word2VecModel)\n",
        "\n",
        "device = torch.device(\"cuda\" if torch.cuda.is_available() else \"cpu\")\n",
        "\n",
        "X_train = torch.tensor(X_train, dtype=torch.float32, device=device)\n",
        "Y_train = torch.tensor(Y_train, dtype=torch.float32, device=device)\n",
        "X_test = torch.tensor(X_test, dtype=torch.float32, device=device)\n",
        "Y_test = torch.tensor(Y_test, dtype=torch.float32, device=device)\n",
        "\n",
        "neural_network = NeuralNetwork().to(device)\n",
        "history, best_mse, best_weights = train_network(neural_network, X_train, Y_train, X_test, Y_test)"
      ],
      "metadata": {
        "colab": {
          "base_uri": "https://localhost:8080/"
        },
        "id": "Vk8sbIfWfZS_",
        "outputId": "78b92453-f60f-477d-8973-5ca15af5dd1c"
      },
      "execution_count": 35,
      "outputs": [
        {
          "output_type": "stream",
          "name": "stdout",
          "text": [
            "processing 342 entries of game data\n",
            "num of train samples 4997, num of test samples 264\n",
            "x_train shape (4997, 25) y_train shape (4997, 25)\n"
          ]
        },
        {
          "output_type": "stream",
          "name": "stderr",
          "text": [
            "Epoch 0: 100%|██████████| 50/50 [00:00<00:00, 184.11batch/s, mse=0.623]\n",
            "Epoch 1: 100%|██████████| 50/50 [00:00<00:00, 252.27batch/s, mse=0.539]\n",
            "Epoch 2: 100%|██████████| 50/50 [00:00<00:00, 255.10batch/s, mse=0.458]\n",
            "Epoch 3: 100%|██████████| 50/50 [00:00<00:00, 110.63batch/s, mse=0.402]\n",
            "Epoch 4: 100%|██████████| 50/50 [00:00<00:00, 159.92batch/s, mse=0.379]\n",
            "Epoch 5: 100%|██████████| 50/50 [00:00<00:00, 166.92batch/s, mse=0.372]\n",
            "Epoch 6: 100%|██████████| 50/50 [00:00<00:00, 237.20batch/s, mse=0.369]\n",
            "Epoch 7: 100%|██████████| 50/50 [00:00<00:00, 147.49batch/s, mse=0.368]\n",
            "Epoch 8: 100%|██████████| 50/50 [00:00<00:00, 246.95batch/s, mse=0.366]\n",
            "Epoch 9: 100%|██████████| 50/50 [00:00<00:00, 198.44batch/s, mse=0.365]\n",
            "Epoch 10: 100%|██████████| 50/50 [00:00<00:00, 262.58batch/s, mse=0.364]\n",
            "Epoch 11: 100%|██████████| 50/50 [00:00<00:00, 207.49batch/s, mse=0.363]\n",
            "Epoch 12: 100%|██████████| 50/50 [00:00<00:00, 104.71batch/s, mse=0.362]\n",
            "Epoch 13: 100%|██████████| 50/50 [00:00<00:00, 154.30batch/s, mse=0.361]\n",
            "Epoch 14: 100%|██████████| 50/50 [00:00<00:00, 241.70batch/s, mse=0.36]\n",
            "Epoch 15: 100%|██████████| 50/50 [00:00<00:00, 127.63batch/s, mse=0.36]\n",
            "Epoch 16: 100%|██████████| 50/50 [00:00<00:00, 160.73batch/s, mse=0.359]\n",
            "Epoch 17: 100%|██████████| 50/50 [00:00<00:00, 188.38batch/s, mse=0.358]\n",
            "Epoch 18: 100%|██████████| 50/50 [00:00<00:00, 163.54batch/s, mse=0.358]\n",
            "Epoch 19: 100%|██████████| 50/50 [00:00<00:00, 154.81batch/s, mse=0.357]\n",
            "Epoch 20: 100%|██████████| 50/50 [00:00<00:00, 216.13batch/s, mse=0.356]\n",
            "Epoch 21: 100%|██████████| 50/50 [00:00<00:00, 137.05batch/s, mse=0.356]\n",
            "Epoch 22: 100%|██████████| 50/50 [00:00<00:00, 183.73batch/s, mse=0.355]\n",
            "Epoch 23: 100%|██████████| 50/50 [00:00<00:00, 223.13batch/s, mse=0.355]\n",
            "Epoch 24: 100%|██████████| 50/50 [00:00<00:00, 125.27batch/s, mse=0.354]\n",
            "Epoch 25: 100%|██████████| 50/50 [00:00<00:00, 250.40batch/s, mse=0.354]\n",
            "Epoch 26: 100%|██████████| 50/50 [00:00<00:00, 225.42batch/s, mse=0.354]\n",
            "Epoch 27: 100%|██████████| 50/50 [00:00<00:00, 221.22batch/s, mse=0.353]\n",
            "Epoch 28: 100%|██████████| 50/50 [00:00<00:00, 118.43batch/s, mse=0.353]\n",
            "Epoch 29: 100%|██████████| 50/50 [00:00<00:00, 183.48batch/s, mse=0.352]\n",
            "Epoch 30: 100%|██████████| 50/50 [00:00<00:00, 177.12batch/s, mse=0.352]\n",
            "Epoch 31: 100%|██████████| 50/50 [00:00<00:00, 181.73batch/s, mse=0.352]\n",
            "Epoch 32: 100%|██████████| 50/50 [00:00<00:00, 183.74batch/s, mse=0.351]\n",
            "Epoch 33: 100%|██████████| 50/50 [00:00<00:00, 171.65batch/s, mse=0.351]\n",
            "Epoch 34: 100%|██████████| 50/50 [00:00<00:00, 180.76batch/s, mse=0.351]\n",
            "Epoch 35: 100%|██████████| 50/50 [00:00<00:00, 187.58batch/s, mse=0.35]\n",
            "Epoch 36: 100%|██████████| 50/50 [00:00<00:00, 165.61batch/s, mse=0.35]\n",
            "Epoch 37: 100%|██████████| 50/50 [00:00<00:00, 150.02batch/s, mse=0.35]\n",
            "Epoch 38: 100%|██████████| 50/50 [00:00<00:00, 169.34batch/s, mse=0.349]\n",
            "Epoch 39: 100%|██████████| 50/50 [00:00<00:00, 178.64batch/s, mse=0.349]\n",
            "Epoch 40: 100%|██████████| 50/50 [00:00<00:00, 237.49batch/s, mse=0.349]\n",
            "Epoch 41: 100%|██████████| 50/50 [00:00<00:00, 231.17batch/s, mse=0.349]\n",
            "Epoch 42: 100%|██████████| 50/50 [00:00<00:00, 222.88batch/s, mse=0.348]\n",
            "Epoch 43: 100%|██████████| 50/50 [00:00<00:00, 247.18batch/s, mse=0.348]\n",
            "Epoch 44: 100%|██████████| 50/50 [00:00<00:00, 107.38batch/s, mse=0.348]\n",
            "Epoch 45: 100%|██████████| 50/50 [00:00<00:00, 236.52batch/s, mse=0.348]\n",
            "Epoch 46: 100%|██████████| 50/50 [00:00<00:00, 104.09batch/s, mse=0.347]\n",
            "Epoch 47: 100%|██████████| 50/50 [00:00<00:00, 234.06batch/s, mse=0.347]\n",
            "Epoch 48: 100%|██████████| 50/50 [00:00<00:00, 96.69batch/s, mse=0.347]\n",
            "Epoch 49: 100%|██████████| 50/50 [00:00<00:00, 194.31batch/s, mse=0.347]\n",
            "Epoch 50: 100%|██████████| 50/50 [00:00<00:00, 155.87batch/s, mse=0.347]\n",
            "Epoch 51: 100%|██████████| 50/50 [00:00<00:00, 229.79batch/s, mse=0.346]\n",
            "Epoch 52: 100%|██████████| 50/50 [00:00<00:00, 120.88batch/s, mse=0.346]\n",
            "Epoch 53: 100%|██████████| 50/50 [00:00<00:00, 229.22batch/s, mse=0.346]\n",
            "Epoch 54: 100%|██████████| 50/50 [00:00<00:00, 220.35batch/s, mse=0.346]\n",
            "Epoch 55: 100%|██████████| 50/50 [00:00<00:00, 229.61batch/s, mse=0.346]\n",
            "Epoch 56: 100%|██████████| 50/50 [00:00<00:00, 231.75batch/s, mse=0.345]\n",
            "Epoch 57: 100%|██████████| 50/50 [00:00<00:00, 234.08batch/s, mse=0.345]\n",
            "Epoch 58: 100%|██████████| 50/50 [00:00<00:00, 229.10batch/s, mse=0.345]\n",
            "Epoch 59: 100%|██████████| 50/50 [00:00<00:00, 125.11batch/s, mse=0.345]\n",
            "Epoch 60: 100%|██████████| 50/50 [00:00<00:00, 230.18batch/s, mse=0.345]\n",
            "Epoch 61: 100%|██████████| 50/50 [00:00<00:00, 164.83batch/s, mse=0.344]\n",
            "Epoch 62: 100%|██████████| 50/50 [00:00<00:00, 264.30batch/s, mse=0.344]\n",
            "Epoch 63: 100%|██████████| 50/50 [00:00<00:00, 267.07batch/s, mse=0.344]\n",
            "Epoch 64: 100%|██████████| 50/50 [00:00<00:00, 275.40batch/s, mse=0.344]\n",
            "Epoch 65: 100%|██████████| 50/50 [00:00<00:00, 266.30batch/s, mse=0.344]\n",
            "Epoch 66: 100%|██████████| 50/50 [00:00<00:00, 253.30batch/s, mse=0.343]\n",
            "Epoch 67: 100%|██████████| 50/50 [00:00<00:00, 271.37batch/s, mse=0.343]\n",
            "Epoch 68: 100%|██████████| 50/50 [00:00<00:00, 258.06batch/s, mse=0.343]\n",
            "Epoch 69: 100%|██████████| 50/50 [00:00<00:00, 265.94batch/s, mse=0.343]\n",
            "Epoch 70: 100%|██████████| 50/50 [00:00<00:00, 273.03batch/s, mse=0.343]\n",
            "Epoch 71: 100%|██████████| 50/50 [00:00<00:00, 265.42batch/s, mse=0.343]\n",
            "Epoch 72: 100%|██████████| 50/50 [00:00<00:00, 263.50batch/s, mse=0.342]\n",
            "Epoch 73: 100%|██████████| 50/50 [00:00<00:00, 260.37batch/s, mse=0.342]\n",
            "Epoch 74: 100%|██████████| 50/50 [00:00<00:00, 265.75batch/s, mse=0.342]\n",
            "Epoch 75: 100%|██████████| 50/50 [00:00<00:00, 270.58batch/s, mse=0.342]\n",
            "Epoch 76: 100%|██████████| 50/50 [00:00<00:00, 268.35batch/s, mse=0.342]\n",
            "Epoch 77: 100%|██████████| 50/50 [00:00<00:00, 267.24batch/s, mse=0.342]\n",
            "Epoch 78: 100%|██████████| 50/50 [00:00<00:00, 268.54batch/s, mse=0.342]\n",
            "Epoch 79: 100%|██████████| 50/50 [00:00<00:00, 179.89batch/s, mse=0.341]\n",
            "Epoch 80: 100%|██████████| 50/50 [00:00<00:00, 277.39batch/s, mse=0.341]\n",
            "Epoch 81: 100%|██████████| 50/50 [00:00<00:00, 277.24batch/s, mse=0.341]\n",
            "Epoch 82: 100%|██████████| 50/50 [00:00<00:00, 278.69batch/s, mse=0.341]\n",
            "Epoch 83: 100%|██████████| 50/50 [00:00<00:00, 278.49batch/s, mse=0.341]\n",
            "Epoch 84: 100%|██████████| 50/50 [00:00<00:00, 268.09batch/s, mse=0.341]\n",
            "Epoch 85: 100%|██████████| 50/50 [00:00<00:00, 257.34batch/s, mse=0.341]\n",
            "Epoch 86: 100%|██████████| 50/50 [00:00<00:00, 274.59batch/s, mse=0.34]\n",
            "Epoch 87: 100%|██████████| 50/50 [00:00<00:00, 248.98batch/s, mse=0.34]\n",
            "Epoch 88: 100%|██████████| 50/50 [00:00<00:00, 266.06batch/s, mse=0.34]\n",
            "Epoch 89: 100%|██████████| 50/50 [00:00<00:00, 262.24batch/s, mse=0.34]\n",
            "Epoch 90: 100%|██████████| 50/50 [00:00<00:00, 282.81batch/s, mse=0.34]\n",
            "Epoch 91: 100%|██████████| 50/50 [00:00<00:00, 258.88batch/s, mse=0.34]\n",
            "Epoch 92: 100%|██████████| 50/50 [00:00<00:00, 260.04batch/s, mse=0.34]\n",
            "Epoch 93: 100%|██████████| 50/50 [00:00<00:00, 248.88batch/s, mse=0.339]\n",
            "Epoch 94: 100%|██████████| 50/50 [00:00<00:00, 250.46batch/s, mse=0.339]\n",
            "Epoch 95: 100%|██████████| 50/50 [00:00<00:00, 259.68batch/s, mse=0.339]\n",
            "Epoch 96: 100%|██████████| 50/50 [00:00<00:00, 275.51batch/s, mse=0.339]\n",
            "Epoch 97: 100%|██████████| 50/50 [00:00<00:00, 261.88batch/s, mse=0.339]\n",
            "Epoch 98: 100%|██████████| 50/50 [00:00<00:00, 241.92batch/s, mse=0.339]\n",
            "Epoch 99: 100%|██████████| 50/50 [00:00<00:00, 203.03batch/s, mse=0.339]\n"
          ]
        }
      ]
    },
    {
      "cell_type": "code",
      "source": [
        "import matplotlib.pyplot as plt\n",
        "print(\"MSE: %.2f\" % best_mse)\n",
        "print(\"RMSE: %.2f\" % np.sqrt(best_mse))\n",
        "plt.plot(history)\n",
        "plt.show()"
      ],
      "metadata": {
        "colab": {
          "base_uri": "https://localhost:8080/",
          "height": 466
        },
        "id": "wwCb8T8ohyi1",
        "outputId": "53b86837-7320-4375-d2bb-9e5518bac6d2"
      },
      "execution_count": 36,
      "outputs": [
        {
          "output_type": "stream",
          "name": "stdout",
          "text": [
            "MSE: 0.31\n",
            "RMSE: 0.56\n"
          ]
        },
        {
          "output_type": "display_data",
          "data": {
            "text/plain": [
              "<Figure size 640x480 with 1 Axes>"
            ],
            "image/png": "[encoded data removed]"
          },
          "metadata": {}
        }
      ]
    },
    {
      "cell_type": "code",
      "source": [
        "def eval_model(filePath, neural_network, word2vecModel, best_weights):\n",
        "  loss = nn.MSELoss()\n",
        "  neural_network.load_state_dict(best_weights)\n",
        "  positive = 0\n",
        "  total_tests = 0\n",
        "\n",
        "  with open(filePath) as f:\n",
        "    data = json.load(f)\n",
        "\n",
        "    neural_network.eval()\n",
        "    with torch.no_grad():\n",
        "      for i in range(len(data)):\n",
        "        categories = list(data[i]['wordCategories'].keys())\n",
        "        average_category_vecs = [average_multi_word_to_vec(cat, word2vecModel) for cat in categories]\n",
        "        average_category_vecs = [torch.tensor(v, dtype=torch.float32, device=device) for v in average_category_vecs if v is not None]\n",
        "        # if any category cannot be mapped to vec by word2vec, skip it\n",
        "        if len(average_category_vecs) != 4:\n",
        "          continue\n",
        "        for cat in categories:\n",
        "          words = data[i]['wordCategories'][cat]\n",
        "          word_vecs = [average_multi_word_to_vec(word, word2vecModel) for word in words]\n",
        "          word_vecs = [torch.tensor(v, dtype=torch.float32, device=device) for v in word_vecs if v is not None]\n",
        "          for v in word_vecs:\n",
        "            output = neural_network(v)\n",
        "            loss_list = [float(loss(output, category_vec)) for category_vec in average_category_vecs]\n",
        "            loss_and_category = zip(loss_list, categories)\n",
        "\n",
        "            # sort by loss\n",
        "            result = sorted(zip(loss_list, categories), key=lambda x: x[0])\n",
        "            if result[0][1] == cat:\n",
        "              positive += 1\n",
        "            total_tests += 1\n",
        "  print(\"words matching true category:\", positive, \"out of total:\", total_tests, \"accuracy:\", positive / total_tests)\n",
        "\n",
        "eval_model(filePath, neural_network, word2VecModel, best_weights)"
      ],
      "metadata": {
        "colab": {
          "base_uri": "https://localhost:8080/"
        },
        "id": "Q0c5bOYKgnUn",
        "outputId": "2cdb6f8f-ab3a-423c-a0cc-c20ebe2a67f6"
      },
      "execution_count": 37,
      "outputs": [
        {
          "output_type": "stream",
          "name": "stdout",
          "text": [
            "words matching true category: 1305 out of total: 4786 accuracy: 0.27267028834099455\n"
          ]
        }
      ]
    }
  ]
}